{
  "nbformat": 4,
  "nbformat_minor": 0,
  "metadata": {
    "colab": {
      "provenance": []
    },
    "kernelspec": {
      "name": "python3",
      "display_name": "Python 3"
    },
    "language_info": {
      "name": "python"
    }
  },
  "cells": [
    {
      "cell_type": "code",
      "source": [
        "import numpy as np\n",
        "import pandas as pd\n",
        "import gzip\n",
        "import json\n",
        "\n",
        "from pprint import pprint\n"
      ],
      "metadata": {
        "id": "u6eeKlj_6r3M"
      },
      "execution_count": 422,
      "outputs": []
    },
    {
      "cell_type": "code",
      "execution_count": 423,
      "metadata": {
        "id": "tV1lKImPlZ4n"
      },
      "outputs": [],
      "source": [
        "train_classification_df = pd.read_csv(\"/content/drive/MyDrive/CS412Data/train-classification.csv\",)\n",
        "train_classification_df = train_classification_df.rename(columns={'Unnamed: 0': 'user_id', 'label': 'category'})\n",
        "\n",
        "# Unifying labels\n",
        "train_classification_df[\"category\"] = train_classification_df[\"category\"].apply(str.lower)\n",
        "username2_category = train_classification_df.set_index(\"user_id\").to_dict()[\"category\"]"
      ]
    },
    {
      "cell_type": "code",
      "source": [
        "train_data_path = \"/content/drive/MyDrive/CS412Data/training-dataset.jsonl.gz\"\n",
        "\n",
        "username2posts_train = dict()\n",
        "username2profile_train = dict()\n",
        "\n",
        "username2posts_test = dict()\n",
        "username2profile_test = dict()\n",
        "\n",
        "\n",
        "with gzip.open(train_data_path, \"rt\") as fh:\n",
        "  for line in fh:\n",
        "    sample = json.loads(line)\n",
        "\n",
        "    profile = sample[\"profile\"]\n",
        "    username = profile[\"username\"]\n",
        "    if username in username2_category:\n",
        "      # train data info\n",
        "      username2posts_train[username] = sample[\"posts\"]\n",
        "      username2profile_train[username] = profile\n",
        "\n",
        "\n",
        "    else:\n",
        "      # it is test data info\n",
        "      username2posts_test[username] = sample[\"posts\"]\n",
        "      username2profile_test[username] = profile\n"
      ],
      "metadata": {
        "id": "7RMwqThkgkzf"
      },
      "execution_count": 424,
      "outputs": []
    },
    {
      "cell_type": "markdown",
      "source": [
        "# DATA PREPARATION"
      ],
      "metadata": {
        "id": "pV4xOG0D4Icf"
      }
    },
    {
      "cell_type": "markdown",
      "source": [
        "## PROFILE DATA"
      ],
      "metadata": {
        "id": "f3W5LdEE5ouK"
      }
    },
    {
      "cell_type": "markdown",
      "source": [
        "### Training"
      ],
      "metadata": {
        "id": "1DpdKsXCCIZv"
      }
    },
    {
      "cell_type": "code",
      "execution_count": 425,
      "metadata": {
        "id": "u7sCCl_w5mEj",
        "colab": {
          "base_uri": "https://localhost:8080/"
        },
        "outputId": "e054761b-8acd-4b02-ee09-d97b76abfff8"
      },
      "outputs": [
        {
          "output_type": "execute_result",
          "data": {
            "text/plain": [
              "Index(['username', 'id', 'full_name', 'biography', 'category_name',\n",
              "       'post_count', 'follower_count', 'following_count',\n",
              "       'is_business_account', 'is_private', 'is_verified',\n",
              "       'highlight_reel_count', 'bio_links', 'entities', 'ai_agent_type',\n",
              "       'fb_profile_biolink', 'restricted_by_viewer', 'country_block',\n",
              "       'eimu_id', 'external_url', 'fbid', 'has_clips',\n",
              "       'hide_like_and_view_counts', 'is_professional_account',\n",
              "       'is_supervision_enabled', 'is_guardian_of_viewer',\n",
              "       'is_supervised_by_viewer', 'is_supervised_user', 'is_embeds_disabled',\n",
              "       'is_joined_recently', 'business_address_json',\n",
              "       'business_contact_method', 'business_email', 'business_phone_number',\n",
              "       'business_category_name', 'overall_category_name', 'category_enum',\n",
              "       'is_verified_by_mv4b', 'is_regulated_c18', 'profile_pic_url',\n",
              "       'should_show_category', 'should_show_public_contacts',\n",
              "       'show_account_transparency_details', 'profile_picture_base64'],\n",
              "      dtype='object')"
            ]
          },
          "metadata": {},
          "execution_count": 425
        }
      ],
      "source": [
        "# Profile Dataframe\n",
        "train_profile_df = pd.DataFrame(username2profile_train).T.reset_index(drop=True)\n",
        "test_profile_df = pd.DataFrame(username2profile_test).T.reset_index(drop=True)\n",
        "\n",
        "#train_profile_df.head(2)\n",
        "train_profile_df.columns"
      ]
    },
    {
      "cell_type": "code",
      "source": [
        "#train_profile_df.rename(columns={ 'id': 'profile_id'}, inplace=True)"
      ],
      "metadata": {
        "id": "133XpTbj7Pu1"
      },
      "execution_count": 426,
      "outputs": []
    },
    {
      "cell_type": "code",
      "source": [
        "# Drop unnecesarry and null columns\n",
        "columns_to_drop = ['external_url','profile_pic_url','full_name', 'ai_agent_type','business_email','business_phone_number'\n",
        ",'overall_category_name', 'fb_profile_biolink' ,'restricted_by_viewer', 'profile_picture_base64', 'bio_links','business_address_json' ]\n",
        "\n",
        "train_profile_df_cleaned = train_profile_df.drop(columns=columns_to_drop)\n"
      ],
      "metadata": {
        "id": "S0lSI3g-7j2s"
      },
      "execution_count": 427,
      "outputs": []
    },
    {
      "cell_type": "code",
      "source": [
        "# The columns that only has ONE UNIQUE value\n",
        "\n",
        "train_profile_df_cleaned = train_profile_df_cleaned.drop(columns=['entities','show_account_transparency_details','country_block','is_supervision_enabled'\n",
        "                    , 'is_guardian_of_viewer', 'is_supervised_by_viewer','is_supervised_user','is_embeds_disabled','is_joined_recently',\n",
        "                      'is_verified_by_mv4b', 'is_regulated_c18'])"
      ],
      "metadata": {
        "id": "WIVkAsAZ8DNt"
      },
      "execution_count": 428,
      "outputs": []
    },
    {
      "cell_type": "code",
      "source": [
        "train_profile_df_cleaned.info()"
      ],
      "metadata": {
        "colab": {
          "base_uri": "https://localhost:8080/"
        },
        "id": "JQnxUvFb8POE",
        "outputId": "ddbc300b-732c-4003-de5c-91214583d943"
      },
      "execution_count": 429,
      "outputs": [
        {
          "output_type": "stream",
          "name": "stdout",
          "text": [
            "<class 'pandas.core.frame.DataFrame'>\n",
            "RangeIndex: 2741 entries, 0 to 2740\n",
            "Data columns (total 21 columns):\n",
            " #   Column                       Non-Null Count  Dtype \n",
            "---  ------                       --------------  ----- \n",
            " 0   username                     2741 non-null   object\n",
            " 1   id                           2741 non-null   object\n",
            " 2   biography                    2571 non-null   object\n",
            " 3   category_name                2226 non-null   object\n",
            " 4   post_count                   275 non-null    object\n",
            " 5   follower_count               2741 non-null   object\n",
            " 6   following_count              2741 non-null   object\n",
            " 7   is_business_account          2741 non-null   object\n",
            " 8   is_private                   2741 non-null   object\n",
            " 9   is_verified                  2741 non-null   object\n",
            " 10  highlight_reel_count         2741 non-null   object\n",
            " 11  eimu_id                      2741 non-null   object\n",
            " 12  fbid                         2741 non-null   object\n",
            " 13  has_clips                    2741 non-null   object\n",
            " 14  hide_like_and_view_counts    2741 non-null   object\n",
            " 15  is_professional_account      2741 non-null   object\n",
            " 16  business_contact_method      2741 non-null   object\n",
            " 17  business_category_name       268 non-null    object\n",
            " 18  category_enum                1636 non-null   object\n",
            " 19  should_show_category         2741 non-null   object\n",
            " 20  should_show_public_contacts  2741 non-null   object\n",
            "dtypes: object(21)\n",
            "memory usage: 449.8+ KB\n"
          ]
        }
      ]
    },
    {
      "cell_type": "code",
      "source": [
        "# Ensure numerical columns are of the correct type\n",
        "numerical_columns = [ 'follower_count', 'following_count','post_count','highlight_reel_count']\n",
        "for col in numerical_columns:\n",
        "    train_profile_df_cleaned[col] = pd.to_numeric(train_profile_df_cleaned[col], errors='coerce').fillna(0)\n",
        "\n",
        "# Verify the preparation\n",
        "print(train_profile_df_cleaned[numerical_columns].describe())\n"
      ],
      "metadata": {
        "colab": {
          "base_uri": "https://localhost:8080/"
        },
        "id": "ZprDh_yo86Vy",
        "outputId": "f1ebef8e-0fc0-4b0a-c3d9-43491ba51735"
      },
      "execution_count": 430,
      "outputs": [
        {
          "output_type": "stream",
          "name": "stdout",
          "text": [
            "       follower_count  following_count    post_count  highlight_reel_count\n",
            "count    2.741000e+03      2741.000000   2741.000000           2741.000000\n",
            "mean     3.227150e+05       478.603794    176.446188             12.935060\n",
            "std      6.106939e+06       949.429332   1001.694227             29.812029\n",
            "min      1.800000e+01         0.000000      0.000000              0.000000\n",
            "25%      3.442000e+03         8.000000      0.000000              3.000000\n",
            "50%      1.351300e+04        76.000000      0.000000              7.000000\n",
            "75%      6.496600e+04       544.000000      0.000000             13.000000\n",
            "max      3.113148e+08      7513.000000  27419.000000            870.000000\n"
          ]
        }
      ]
    },
    {
      "cell_type": "code",
      "source": [
        "boolean_columns = ['is_business_account', 'is_private', 'is_verified','has_clips','hide_like_and_view_counts','is_professional_account'\n",
        ",'should_show_category', 'should_show_public_contacts']\n",
        "for col in boolean_columns:\n",
        "    train_profile_df_cleaned[col] = train_profile_df_cleaned[col].astype(int)"
      ],
      "metadata": {
        "id": "Ql5q6f8T94iA"
      },
      "execution_count": 431,
      "outputs": []
    },
    {
      "cell_type": "code",
      "source": [
        "train_profile_df_cleaned.info()"
      ],
      "metadata": {
        "colab": {
          "base_uri": "https://localhost:8080/"
        },
        "id": "7cmep9z--H_e",
        "outputId": "8c98dc2d-88d6-4a4a-b186-c66066a82588"
      },
      "execution_count": 432,
      "outputs": [
        {
          "output_type": "stream",
          "name": "stdout",
          "text": [
            "<class 'pandas.core.frame.DataFrame'>\n",
            "RangeIndex: 2741 entries, 0 to 2740\n",
            "Data columns (total 21 columns):\n",
            " #   Column                       Non-Null Count  Dtype  \n",
            "---  ------                       --------------  -----  \n",
            " 0   username                     2741 non-null   object \n",
            " 1   id                           2741 non-null   object \n",
            " 2   biography                    2571 non-null   object \n",
            " 3   category_name                2226 non-null   object \n",
            " 4   post_count                   2741 non-null   float64\n",
            " 5   follower_count               2741 non-null   int64  \n",
            " 6   following_count              2741 non-null   int64  \n",
            " 7   is_business_account          2741 non-null   int64  \n",
            " 8   is_private                   2741 non-null   int64  \n",
            " 9   is_verified                  2741 non-null   int64  \n",
            " 10  highlight_reel_count         2741 non-null   int64  \n",
            " 11  eimu_id                      2741 non-null   object \n",
            " 12  fbid                         2741 non-null   object \n",
            " 13  has_clips                    2741 non-null   int64  \n",
            " 14  hide_like_and_view_counts    2741 non-null   int64  \n",
            " 15  is_professional_account      2741 non-null   int64  \n",
            " 16  business_contact_method      2741 non-null   object \n",
            " 17  business_category_name       268 non-null    object \n",
            " 18  category_enum                1636 non-null   object \n",
            " 19  should_show_category         2741 non-null   int64  \n",
            " 20  should_show_public_contacts  2741 non-null   int64  \n",
            "dtypes: float64(1), int64(11), object(9)\n",
            "memory usage: 449.8+ KB\n"
          ]
        }
      ]
    },
    {
      "cell_type": "markdown",
      "metadata": {
        "id": "JYcm3HIDQtGI"
      },
      "source": [
        "#### Map Categorical Data"
      ]
    },
    {
      "cell_type": "code",
      "execution_count": 433,
      "metadata": {
        "id": "UBmtGayHLHkZ"
      },
      "outputs": [],
      "source": [
        "# Drop null values and get unique values\n",
        "unique_business_categories = train_profile_df_cleaned['business_category_name'].dropna().unique()\n",
        "\n",
        "# Define the mapping\n",
        "business_category_mapping = {\n",
        "    'Creators & Celebrities': 'entertainment',\n",
        "    'Personal Goods & General Merchandise Stores': 'fashion',\n",
        "    'Local Events': 'entertainment',\n",
        "    'Grocery & Convenience Stores': 'food',\n",
        "    'Home Services': 'health and lifestyle',\n",
        "    'Publishers': 'general interest',\n",
        "    'Restaurants': 'food',\n",
        "    'General Interest': 'general interest',\n",
        "    'Lifestyle Services': 'health and lifestyle',\n",
        "    'Non-Profits & Religious Organizations': 'general interest',\n",
        "    'Government Agencies': 'general interest',\n",
        "    'Home Goods Stores': 'home and lifestyle',\n",
        "    'Professional Services': 'general interest',\n",
        "    'Transportation & Accomodation Services': 'travel',\n",
        "    'Business & Utility Services': 'general interest',\n",
        "    'Food & Personal Goods': 'food',\n",
        "    'Auto Dealers': 'tech',\n",
        "    'Content & Apps': 'tech',\n",
        "    'Geography': 'general interest',\n",
        "    'Entities': 'general interest',\n",
        "}\n",
        "\n",
        "# Apply the mapping\n",
        "train_profile_df_cleaned['mapped_business_category'] = train_profile_df_cleaned['business_category_name'].map(business_category_mapping)\n",
        "train_profile_df_cleaned = train_profile_df_cleaned.drop(columns=['business_category_name'])\n",
        "\n",
        "\n"
      ]
    },
    {
      "cell_type": "code",
      "source": [
        "from sklearn.preprocessing import LabelEncoder\n",
        "\n",
        "# Initialize LabelEncoder\n",
        "label_encoder = LabelEncoder()\n",
        "\n",
        "# Encode the categories\n",
        "train_profile_df_cleaned['encoded_business_category'] = label_encoder.fit_transform(train_profile_df_cleaned['mapped_business_category'])\n",
        "\n",
        "# Save the mapping for reference\n",
        "category_mapping = dict(zip(label_encoder.classes_, label_encoder.transform(label_encoder.classes_)))\n",
        "print(\"Category Mapping:\", category_mapping)\n",
        "\n",
        "# Verify the encoded categories\n",
        "print(train_profile_df_cleaned[['mapped_business_category', 'encoded_business_category']].head())\n",
        "print(train_profile_df_cleaned.shape)"
      ],
      "metadata": {
        "colab": {
          "base_uri": "https://localhost:8080/"
        },
        "id": "F78GB4Xs_e10",
        "outputId": "f4e4b984-24e0-48d9-a8d2-567418c59195"
      },
      "execution_count": 434,
      "outputs": [
        {
          "output_type": "stream",
          "name": "stdout",
          "text": [
            "Category Mapping: {'entertainment': 0, 'fashion': 1, 'food': 2, 'general interest': 3, 'health and lifestyle': 4, 'home and lifestyle': 5, 'tech': 6, 'travel': 7, nan: 8}\n",
            "  mapped_business_category  encoded_business_category\n",
            "0                      NaN                          8\n",
            "1                      NaN                          8\n",
            "2            entertainment                          0\n",
            "3                      NaN                          8\n",
            "4                      NaN                          8\n",
            "(2741, 22)\n"
          ]
        }
      ]
    },
    {
      "cell_type": "code",
      "execution_count": 435,
      "metadata": {
        "id": "eRZUJqsvMRn8"
      },
      "outputs": [],
      "source": [
        "train_profile_df_cleaned['category_name']\n",
        "unique_category_name = train_profile_df_cleaned['category_name'].dropna().unique()\n",
        "\n",
        "category_name_mapping = {\n",
        "    # Food-related\n",
        "    'Restaurant': 'food',\n",
        "    'Cafe': 'food',\n",
        "    'Fast Food Restaurant': 'food',\n",
        "    'Grocery Store': 'food',\n",
        "    'Bakery': 'food',\n",
        "    'Seafood Restaurant': 'food',\n",
        "    'Turkish Restaurant': 'food',\n",
        "    'Comfort Food Restaurant': 'food',\n",
        "    'Specialty Grocery Store': 'food',\n",
        "    'Food & beverage': 'food',\n",
        "    'Food & Drink': 'food',\n",
        "    'Dessert Shop': 'food',\n",
        "    'Ice Cream Shop': 'food',\n",
        "    'Health Food Store': 'food',\n",
        "    'Health Food Restaurant': 'food',\n",
        "    'Food Consultant': 'food',\n",
        "    'Food Wholesaler': 'food',\n",
        "\n",
        "    # Art-related\n",
        "    'Art': 'art',\n",
        "    'Artist': 'art',\n",
        "    'Performing Arts': 'art',\n",
        "    'Visual Arts': 'art',\n",
        "    'Art School': 'art',\n",
        "    'Performance Art': 'art',\n",
        "    'Performance Art Theatre': 'art',\n",
        "    'Theatrical Productions': 'art',\n",
        "    'Arts & entertainment': 'art',\n",
        "    'Performing Arts School': 'art',\n",
        "    'Arts & Crafts Store': 'art',\n",
        "\n",
        "    # Entertainment-related\n",
        "    'TV channel': 'entertainment',\n",
        "    'Musician': 'entertainment',\n",
        "    'TV show': 'entertainment',\n",
        "    'Video creator': 'entertainment',\n",
        "    'Digital creator': 'entertainment',\n",
        "    'Music': 'entertainment',\n",
        "    'Comedian': 'entertainment',\n",
        "    'Dance & Night Club': 'entertainment',\n",
        "    'Media': 'entertainment',\n",
        "    'Movie Theater': 'entertainment',\n",
        "    'Broadcasting & media production company': 'entertainment',\n",
        "\n",
        "    # Fashion-related\n",
        "    'Clothing (Brand)': 'fashion',\n",
        "    'Jewelry & Watches Store': 'fashion',\n",
        "    'Jewelry/watches': 'fashion',\n",
        "    'Fashion Designer': 'fashion',\n",
        "    'Design & fashion': 'fashion',\n",
        "    'Beauty, cosmetic & personal care': 'fashion',\n",
        "    'Bridal Shop': 'fashion',\n",
        "    'Footwear store': 'fashion',\n",
        "    'Clothing store': 'fashion',\n",
        "    'Retail company': 'fashion',\n",
        "    'Sunglasses & Eyewear Store': 'fashion',\n",
        "\n",
        "    # Gaming-related\n",
        "    'Gaming video creator': 'gaming',\n",
        "    'Games/toys': 'gaming',\n",
        "    'Video Game Store': 'gaming',\n",
        "\n",
        "    # Health and Lifestyle\n",
        "    'Health/beauty': 'health and lifestyle',\n",
        "    'Vitamins/supplements': 'health and lifestyle',\n",
        "    'Health & wellness website': 'health and lifestyle',\n",
        "    'Hospital': 'health and lifestyle',\n",
        "    'Medical & health': 'health and lifestyle',\n",
        "    'Doctor': 'health and lifestyle',\n",
        "    'Dentist & Dental Office': 'health and lifestyle',\n",
        "    'Therapist': 'health and lifestyle',\n",
        "    'Plastic Surgeon': 'health and lifestyle',\n",
        "    'Pharmaceutical Company': 'health and lifestyle',\n",
        "    'Nutritionist': 'health and lifestyle',\n",
        "\n",
        "    # Mom and Children\n",
        "    'Baby goods/kids goods': 'mom and children',\n",
        "    \"Baby & children's clothing store\": 'mom and children',\n",
        "    'Child Development': 'mom and children',\n",
        "\n",
        "    # Sports-related\n",
        "    'Sports Club': 'sports',\n",
        "    'Sports league': 'sports',\n",
        "    'Sports Event': 'sports',\n",
        "    'Gym/Physical Fitness Center': 'sports',\n",
        "    'Sports team': 'sports',\n",
        "    'Athlete': 'sports',\n",
        "\n",
        "    # Tech-related\n",
        "    'Software Company': 'tech',\n",
        "    'Science, Technology & Engineering': 'tech',\n",
        "    'Information Technology Company': 'tech',\n",
        "    'Tech Company': 'tech',\n",
        "    'Computer Company': 'tech',\n",
        "    'App page': 'tech',\n",
        "    'Digital/Software': 'tech',\n",
        "\n",
        "    # Travel-related\n",
        "    'Tour Agency': 'travel',\n",
        "    'Hotel': 'travel',\n",
        "    'Hotel resort': 'travel',\n",
        "    'Transportation & Accomodation Services': 'travel',\n",
        "    'Travel Company': 'travel',\n",
        "    'Travel agency': 'travel',\n",
        "    'Beach Resort': 'travel',\n",
        "    'Boat Tour Agency': 'travel',\n",
        "    'Tourist Information Center': 'travel',\n",
        "    'Airline Company': 'travel',\n",
        "}\n",
        "\n",
        "train_profile_df_cleaned['mapped_category_name'] = train_profile_df_cleaned['category_name'].map(category_name_mapping)\n",
        "train_cleaned_profile_df = train_profile_df_cleaned.drop(columns=['category_name'])\n",
        "\n"
      ]
    },
    {
      "cell_type": "code",
      "source": [
        "from sklearn.preprocessing import LabelEncoder\n",
        "\n",
        "# Initialize LabelEncoder\n",
        "label_encoder = LabelEncoder()\n",
        "\n",
        "# Encode the categories\n",
        "train_profile_df_cleaned['encoded_category_name'] = label_encoder.fit_transform(train_profile_df_cleaned['mapped_category_name'])\n",
        "\n",
        "# Save the mapping for reference\n",
        "category_mapping = dict(zip(label_encoder.classes_, label_encoder.transform(label_encoder.classes_)))\n",
        "print(\"Category Mapping:\", category_mapping)\n",
        "\n",
        "# Verify the encoded categories\n",
        "print(train_profile_df_cleaned[['mapped_category_name', 'encoded_category_name']].head())\n",
        "print(train_profile_df_cleaned.shape)"
      ],
      "metadata": {
        "colab": {
          "base_uri": "https://localhost:8080/"
        },
        "id": "dOuqjvhV_Wh3",
        "outputId": "94077503-e8af-4153-a4ff-e97ced7882d4"
      },
      "execution_count": 436,
      "outputs": [
        {
          "output_type": "stream",
          "name": "stdout",
          "text": [
            "Category Mapping: {'art': 0, 'entertainment': 1, 'fashion': 2, 'food': 3, 'gaming': 4, 'health and lifestyle': 5, 'mom and children': 6, 'sports': 7, 'tech': 8, 'travel': 9, nan: 10}\n",
            "  mapped_category_name  encoded_category_name\n",
            "0                  NaN                     10\n",
            "1                  NaN                     10\n",
            "2                  NaN                     10\n",
            "3                  NaN                     10\n",
            "4                  NaN                     10\n",
            "(2741, 24)\n"
          ]
        }
      ]
    },
    {
      "cell_type": "code",
      "execution_count": 437,
      "metadata": {
        "id": "OJvD4PIvXz6W"
      },
      "outputs": [],
      "source": [
        "\n",
        "unique_category_name = train_profile_df_cleaned['category_enum'].dropna().unique()\n",
        "\n",
        "category_enum_mapping = {\n",
        "    # Tech-related\n",
        "    'SOFTWARE_COMPANY': 'tech',\n",
        "    'INFORMATION_TECHNOLOGY_COMPANY': 'tech',\n",
        "    'DIGITAL_CREATOR': 'tech',\n",
        "    'ELECTRONICS': 'tech',\n",
        "    'APP': 'tech',\n",
        "    'ELECTRONICS_COMPANY': 'tech',\n",
        "    'COMPUTER_COMPANY': 'tech',\n",
        "    'SOFTWARE': 'tech',\n",
        "    'WEBSITE': 'tech',\n",
        "\n",
        "    # Entertainment-related\n",
        "    'DIGITAL_CREATOR': 'entertainment',\n",
        "    'MUSICIAN': 'entertainment',\n",
        "    'VIDEO_CREATOR': 'entertainment',\n",
        "    'TV_CHANNEL': 'entertainment',\n",
        "    'MOVIE_WRITER': 'entertainment',\n",
        "    'THEATRICAL_PRODUCTIONS': 'entertainment',\n",
        "    'PERFORMING_ARTS': 'entertainment',\n",
        "    'ACTOR': 'entertainment',\n",
        "    'RADIO_STATION': 'entertainment',\n",
        "    'TV_SHOW': 'entertainment',\n",
        "    'THEATRE': 'entertainment',\n",
        "\n",
        "    # Health and Lifestyle-related\n",
        "    'HEALTH_BEAUTY': 'health and lifestyle',\n",
        "    'HOSPITAL': 'health and lifestyle',\n",
        "    'HEALTH_SITE': 'health and lifestyle',\n",
        "    'MEDICAL_HEALTH': 'health and lifestyle',\n",
        "    'PHYSICAL_THERAPIST': 'health and lifestyle',\n",
        "    'MEDICAL_CENTER': 'health and lifestyle',\n",
        "    'SPA_BEAUTY_PERSONAL_CARE': 'health and lifestyle',\n",
        "    'DENTIST': 'health and lifestyle',\n",
        "    'VITAMIN_SUPPLEMENTS': 'health and lifestyle',\n",
        "\n",
        "    # Food-related\n",
        "    'RESTAURANT': 'food',\n",
        "    'FAST_FOOD_RESTAURANT': 'food',\n",
        "    'SEAFOOD_RESTAURANT': 'food',\n",
        "    'BAKERY': 'food',\n",
        "    'FAMILY_STYLE_RESTAURANT': 'food',\n",
        "    'CAFE': 'food',\n",
        "    'FOOD_COMPANY': 'food',\n",
        "    'FOOD_BEVERAGE': 'food',\n",
        "    'COMFORT_FOOD_RESTAURANT': 'food',\n",
        "\n",
        "    # Sports-related\n",
        "    'SPORTS_CLUB': 'sports',\n",
        "    'SPORTS_LEAGUE': 'sports',\n",
        "    'SPORTS_EVENT': 'sports',\n",
        "    'SPORTS_TEAM': 'sports',\n",
        "    'ATHLETE': 'sports',\n",
        "\n",
        "    # Travel-related\n",
        "    'TRAVEL_AGENCY': 'travel',\n",
        "    'HOTEL_LODGING': 'travel',\n",
        "    'BEACH_RESORT': 'travel',\n",
        "    'TOURISM': 'travel',\n",
        "    'TRAVEL_COMPANY': 'travel',\n",
        "\n",
        "    # Fashion-related\n",
        "    'CLOTHING': 'fashion',\n",
        "    'JEWELRY_STORE': 'fashion',\n",
        "    'SHOE_STORE': 'fashion',\n",
        "    'BOUTIQUE': 'fashion',\n",
        "\n",
        "    # Miscellaneous\n",
        "    'POLITICIAN': 'politics',\n",
        "    'GOVERNMENT_ORGANIZATION': 'government',\n",
        "    'NGO': 'nonprofit',\n",
        "    'COMMUNITY': 'community',\n",
        "    'PERSONAL_BLOG': 'blog',\n",
        "    'FINANCIAL_SERVICES': 'finance',\n",
        "    'CONSULTING_COMPANY': 'consulting',\n",
        "    'MEDIA_NEWS_COMPANY': 'media',\n",
        "    'NEWS_SITE': 'media',\n",
        "    'RADIO_STATION': 'media',\n",
        "}\n",
        "train_profile_df_cleaned['mapped_category_enum'] = train_profile_df_cleaned['category_enum'].map(category_enum_mapping)\n",
        "train_profile_df_cleaned = train_profile_df_cleaned.drop(columns=['category_enum'])\n",
        "\n"
      ]
    },
    {
      "cell_type": "code",
      "source": [
        "from sklearn.preprocessing import LabelEncoder\n",
        "\n",
        "# Initialize LabelEncoder\n",
        "label_encoder = LabelEncoder()\n",
        "\n",
        "# Encode the categories\n",
        "train_profile_df_cleaned['encoded_category_enum'] = label_encoder.fit_transform(train_profile_df_cleaned['mapped_category_enum'])\n",
        "\n",
        "# Save the mapping for reference\n",
        "category_mapping = dict(zip(label_encoder.classes_, label_encoder.transform(label_encoder.classes_)))\n",
        "print(\"Category Mapping:\", category_mapping)\n",
        "\n",
        "# Verify the encoded categories\n",
        "print(train_profile_df_cleaned[['mapped_category_enum', 'encoded_category_enum']].head())\n",
        "print(train_profile_df_cleaned.shape)"
      ],
      "metadata": {
        "colab": {
          "base_uri": "https://localhost:8080/"
        },
        "id": "VrvRND4Q-lp0",
        "outputId": "373fbf0d-b23a-4918-a321-e1997fabb71d"
      },
      "execution_count": 438,
      "outputs": [
        {
          "output_type": "stream",
          "name": "stdout",
          "text": [
            "Category Mapping: {'blog': 0, 'community': 1, 'consulting': 2, 'entertainment': 3, 'fashion': 4, 'finance': 5, 'food': 6, 'government': 7, 'health and lifestyle': 8, 'media': 9, 'nonprofit': 10, 'politics': 11, 'sports': 12, 'tech': 13, 'travel': 14, nan: 15}\n",
            "  mapped_category_enum  encoded_category_enum\n",
            "0                  NaN                     15\n",
            "1                  NaN                     15\n",
            "2        entertainment                      3\n",
            "3             politics                     11\n",
            "4                  NaN                     15\n",
            "(2741, 25)\n"
          ]
        }
      ]
    },
    {
      "cell_type": "code",
      "source": [
        "train_profile_df_cleaned.info()"
      ],
      "metadata": {
        "colab": {
          "base_uri": "https://localhost:8080/"
        },
        "id": "sGDGFcba_0xr",
        "outputId": "e3466bb1-d929-4305-f9dc-b6d987a597b6"
      },
      "execution_count": 439,
      "outputs": [
        {
          "output_type": "stream",
          "name": "stdout",
          "text": [
            "<class 'pandas.core.frame.DataFrame'>\n",
            "RangeIndex: 2741 entries, 0 to 2740\n",
            "Data columns (total 25 columns):\n",
            " #   Column                       Non-Null Count  Dtype  \n",
            "---  ------                       --------------  -----  \n",
            " 0   username                     2741 non-null   object \n",
            " 1   id                           2741 non-null   object \n",
            " 2   biography                    2571 non-null   object \n",
            " 3   category_name                2226 non-null   object \n",
            " 4   post_count                   2741 non-null   float64\n",
            " 5   follower_count               2741 non-null   int64  \n",
            " 6   following_count              2741 non-null   int64  \n",
            " 7   is_business_account          2741 non-null   int64  \n",
            " 8   is_private                   2741 non-null   int64  \n",
            " 9   is_verified                  2741 non-null   int64  \n",
            " 10  highlight_reel_count         2741 non-null   int64  \n",
            " 11  eimu_id                      2741 non-null   object \n",
            " 12  fbid                         2741 non-null   object \n",
            " 13  has_clips                    2741 non-null   int64  \n",
            " 14  hide_like_and_view_counts    2741 non-null   int64  \n",
            " 15  is_professional_account      2741 non-null   int64  \n",
            " 16  business_contact_method      2741 non-null   object \n",
            " 17  should_show_category         2741 non-null   int64  \n",
            " 18  should_show_public_contacts  2741 non-null   int64  \n",
            " 19  mapped_business_category     268 non-null    object \n",
            " 20  encoded_business_category    2741 non-null   int64  \n",
            " 21  mapped_category_name         859 non-null    object \n",
            " 22  encoded_category_name        2741 non-null   int64  \n",
            " 23  mapped_category_enum         580 non-null    object \n",
            " 24  encoded_category_enum        2741 non-null   int64  \n",
            "dtypes: float64(1), int64(14), object(10)\n",
            "memory usage: 535.5+ KB\n"
          ]
        }
      ]
    },
    {
      "cell_type": "markdown",
      "source": [
        "### Test"
      ],
      "metadata": {
        "id": "aum2-NhzCLp1"
      }
    },
    {
      "cell_type": "code",
      "execution_count": 440,
      "metadata": {
        "colab": {
          "base_uri": "https://localhost:8080/"
        },
        "outputId": "4962a86b-61f4-4a02-984d-bf14932389d0",
        "id": "5Ijik20yCSlE"
      },
      "outputs": [
        {
          "output_type": "execute_result",
          "data": {
            "text/plain": [
              "Index(['username', 'id', 'full_name', 'biography', 'category_name',\n",
              "       'post_count', 'follower_count', 'following_count',\n",
              "       'is_business_account', 'is_private', 'is_verified',\n",
              "       'highlight_reel_count', 'bio_links', 'entities', 'ai_agent_type',\n",
              "       'fb_profile_biolink', 'restricted_by_viewer', 'country_block',\n",
              "       'eimu_id', 'external_url', 'fbid', 'has_clips',\n",
              "       'hide_like_and_view_counts', 'is_professional_account',\n",
              "       'is_supervision_enabled', 'is_guardian_of_viewer',\n",
              "       'is_supervised_by_viewer', 'is_supervised_user', 'is_embeds_disabled',\n",
              "       'is_joined_recently', 'business_address_json',\n",
              "       'business_contact_method', 'business_email', 'business_phone_number',\n",
              "       'business_category_name', 'overall_category_name', 'category_enum',\n",
              "       'is_verified_by_mv4b', 'is_regulated_c18', 'profile_pic_url',\n",
              "       'should_show_category', 'should_show_public_contacts',\n",
              "       'show_account_transparency_details', 'profile_picture_base64'],\n",
              "      dtype='object')"
            ]
          },
          "metadata": {},
          "execution_count": 440
        }
      ],
      "source": [
        "# Profile Dataframe\n",
        "test_profile_df = pd.DataFrame(username2profile_test).T.reset_index(drop=True)\n",
        "\n",
        "test_profile_df.columns"
      ]
    },
    {
      "cell_type": "code",
      "source": [
        "#test_profile_df.rename(columns={ 'id': 'profile_id'}, inplace=True)"
      ],
      "metadata": {
        "id": "PpGnxXYVCSlF"
      },
      "execution_count": 441,
      "outputs": []
    },
    {
      "cell_type": "code",
      "source": [
        "# Drop unnecesarry and null columns\n",
        "columns_to_drop = ['external_url','profile_pic_url','full_name', 'ai_agent_type','business_email','business_phone_number'\n",
        ",'overall_category_name', 'fb_profile_biolink' ,'restricted_by_viewer', 'profile_picture_base64', 'bio_links','business_address_json' ]\n",
        "\n",
        "test_profile_df_cleaned = test_profile_df.drop(columns=columns_to_drop)\n"
      ],
      "metadata": {
        "id": "oGhqK4hrCSlF"
      },
      "execution_count": 442,
      "outputs": []
    },
    {
      "cell_type": "code",
      "source": [
        "# Drop null values and get unique values\n",
        "unique_business_categories = test_profile_df_cleaned['show_account_transparency_details'].dropna().unique()\n",
        "\n",
        "# Display the unique values\n",
        "print(unique_business_categories)\n"
      ],
      "metadata": {
        "colab": {
          "base_uri": "https://localhost:8080/"
        },
        "id": "j11CxvxMUbgB",
        "outputId": "94be6791-3fca-4761-e9b4-cde3b381854b"
      },
      "execution_count": 443,
      "outputs": [
        {
          "output_type": "stream",
          "name": "stdout",
          "text": [
            "[True]\n"
          ]
        }
      ]
    },
    {
      "cell_type": "code",
      "source": [
        "# The columns that only has ONE UNIQUE value\n",
        "\n",
        "test_profile_df_cleaned = test_profile_df_cleaned.drop(columns=['entities','show_account_transparency_details','country_block','is_supervision_enabled'\n",
        "                    , 'is_guardian_of_viewer', 'is_supervised_by_viewer','is_supervised_user','is_embeds_disabled','is_joined_recently',\n",
        "                      'is_verified_by_mv4b', 'is_regulated_c18'])"
      ],
      "metadata": {
        "id": "Qv2OgEAICSlF"
      },
      "execution_count": 444,
      "outputs": []
    },
    {
      "cell_type": "code",
      "source": [
        "test_profile_df_cleaned.info()"
      ],
      "metadata": {
        "colab": {
          "base_uri": "https://localhost:8080/"
        },
        "outputId": "cb666f3a-dafe-44cd-cf53-0de5ad8f70a5",
        "id": "agAIN0spCSlF"
      },
      "execution_count": 445,
      "outputs": [
        {
          "output_type": "stream",
          "name": "stdout",
          "text": [
            "<class 'pandas.core.frame.DataFrame'>\n",
            "RangeIndex: 2674 entries, 0 to 2673\n",
            "Data columns (total 21 columns):\n",
            " #   Column                       Non-Null Count  Dtype \n",
            "---  ------                       --------------  ----- \n",
            " 0   username                     2674 non-null   object\n",
            " 1   id                           2674 non-null   object\n",
            " 2   biography                    2496 non-null   object\n",
            " 3   category_name                2169 non-null   object\n",
            " 4   post_count                   304 non-null    object\n",
            " 5   follower_count               2674 non-null   object\n",
            " 6   following_count              2674 non-null   object\n",
            " 7   is_business_account          2674 non-null   object\n",
            " 8   is_private                   2674 non-null   object\n",
            " 9   is_verified                  2674 non-null   object\n",
            " 10  highlight_reel_count         2674 non-null   object\n",
            " 11  eimu_id                      2674 non-null   object\n",
            " 12  fbid                         2674 non-null   object\n",
            " 13  has_clips                    2674 non-null   object\n",
            " 14  hide_like_and_view_counts    2674 non-null   object\n",
            " 15  is_professional_account      2674 non-null   object\n",
            " 16  business_contact_method      2674 non-null   object\n",
            " 17  business_category_name       275 non-null    object\n",
            " 18  category_enum                1555 non-null   object\n",
            " 19  should_show_category         2674 non-null   object\n",
            " 20  should_show_public_contacts  2674 non-null   object\n",
            "dtypes: object(21)\n",
            "memory usage: 438.8+ KB\n"
          ]
        }
      ]
    },
    {
      "cell_type": "code",
      "source": [
        "# Ensure numerical columns are of the correct type anf Fill missing values\n",
        "numerical_columns = [ 'follower_count', 'following_count','post_count','highlight_reel_count']\n",
        "for col in numerical_columns:\n",
        "    test_profile_df_cleaned[col] = pd.to_numeric(test_profile_df_cleaned[col], errors='coerce').fillna(0)\n",
        "\n",
        "# Verify the preparation\n",
        "print(test_profile_df_cleaned[numerical_columns].describe())\n"
      ],
      "metadata": {
        "colab": {
          "base_uri": "https://localhost:8080/"
        },
        "outputId": "27fb76b0-9630-44c7-a221-ee87621c4273",
        "id": "HJ7Qr6U0CSlF"
      },
      "execution_count": 446,
      "outputs": [
        {
          "output_type": "stream",
          "name": "stdout",
          "text": [
            "       follower_count  following_count    post_count  highlight_reel_count\n",
            "count    2.674000e+03      2674.000000   2674.000000           2674.000000\n",
            "mean     2.774107e+05       500.126028    200.034031             16.824981\n",
            "std      2.242862e+06      1023.817455   1284.290126            189.026993\n",
            "min      1.600000e+01         0.000000      0.000000              0.000000\n",
            "25%      3.321500e+03         9.000000      0.000000              2.000000\n",
            "50%      1.366200e+04        74.000000      0.000000              7.000000\n",
            "75%      7.126025e+04       563.000000      0.000000             13.000000\n",
            "max      6.324671e+07      7533.000000  30856.000000           9660.000000\n"
          ]
        }
      ]
    },
    {
      "cell_type": "code",
      "source": [
        "boolean_columns = ['is_business_account', 'is_private', 'is_verified','has_clips','hide_like_and_view_counts','is_professional_account'\n",
        ",'should_show_category', 'should_show_public_contacts']\n",
        "for col in boolean_columns:\n",
        "    test_profile_df_cleaned[col] = test_profile_df_cleaned[col].astype(int)"
      ],
      "metadata": {
        "id": "1JdHt2clCSlG"
      },
      "execution_count": 447,
      "outputs": []
    },
    {
      "cell_type": "code",
      "source": [
        "test_profile_df_cleaned.info()"
      ],
      "metadata": {
        "colab": {
          "base_uri": "https://localhost:8080/"
        },
        "outputId": "b827f3f4-2b9a-4c91-eeda-769f1f17819e",
        "id": "ROVwDaseCSlG"
      },
      "execution_count": 448,
      "outputs": [
        {
          "output_type": "stream",
          "name": "stdout",
          "text": [
            "<class 'pandas.core.frame.DataFrame'>\n",
            "RangeIndex: 2674 entries, 0 to 2673\n",
            "Data columns (total 21 columns):\n",
            " #   Column                       Non-Null Count  Dtype  \n",
            "---  ------                       --------------  -----  \n",
            " 0   username                     2674 non-null   object \n",
            " 1   id                           2674 non-null   object \n",
            " 2   biography                    2496 non-null   object \n",
            " 3   category_name                2169 non-null   object \n",
            " 4   post_count                   2674 non-null   float64\n",
            " 5   follower_count               2674 non-null   int64  \n",
            " 6   following_count              2674 non-null   int64  \n",
            " 7   is_business_account          2674 non-null   int64  \n",
            " 8   is_private                   2674 non-null   int64  \n",
            " 9   is_verified                  2674 non-null   int64  \n",
            " 10  highlight_reel_count         2674 non-null   int64  \n",
            " 11  eimu_id                      2674 non-null   object \n",
            " 12  fbid                         2674 non-null   object \n",
            " 13  has_clips                    2674 non-null   int64  \n",
            " 14  hide_like_and_view_counts    2674 non-null   int64  \n",
            " 15  is_professional_account      2674 non-null   int64  \n",
            " 16  business_contact_method      2674 non-null   object \n",
            " 17  business_category_name       275 non-null    object \n",
            " 18  category_enum                1555 non-null   object \n",
            " 19  should_show_category         2674 non-null   int64  \n",
            " 20  should_show_public_contacts  2674 non-null   int64  \n",
            "dtypes: float64(1), int64(11), object(9)\n",
            "memory usage: 438.8+ KB\n"
          ]
        }
      ]
    },
    {
      "cell_type": "markdown",
      "metadata": {
        "id": "H_-bNCgDCSlG"
      },
      "source": [
        "#### Map Categorical Data"
      ]
    },
    {
      "cell_type": "code",
      "execution_count": 449,
      "metadata": {
        "id": "pSpExnVyCSlH"
      },
      "outputs": [],
      "source": [
        "# Drop null values and get unique values\n",
        "unique_business_categories = test_profile_df_cleaned['business_category_name'].dropna().unique()\n",
        "\n",
        "# Define the mapping\n",
        "business_category_mapping = {\n",
        "    'Creators & Celebrities': 'entertainment',\n",
        "    'Personal Goods & General Merchandise Stores': 'fashion',\n",
        "    'Local Events': 'entertainment',\n",
        "    'Grocery & Convenience Stores': 'food',\n",
        "    'Home Services': 'health and lifestyle',\n",
        "    'Publishers': 'general interest',\n",
        "    'Restaurants': 'food',\n",
        "    'General Interest': 'general interest',\n",
        "    'Lifestyle Services': 'health and lifestyle',\n",
        "    'Non-Profits & Religious Organizations': 'general interest',\n",
        "    'Government Agencies': 'general interest',\n",
        "    'Home Goods Stores': 'home and lifestyle',\n",
        "    'Professional Services': 'general interest',\n",
        "    'Transportation & Accomodation Services': 'travel',\n",
        "    'Business & Utility Services': 'general interest',\n",
        "    'Food & Personal Goods': 'food',\n",
        "    'Auto Dealers': 'tech',\n",
        "    'Content & Apps': 'tech',\n",
        "    'Geography': 'general interest',\n",
        "    'Entities': 'general interest',\n",
        "}\n",
        "\n",
        "# Apply the mapping\n",
        "test_profile_df_cleaned['mapped_business_category'] = test_profile_df_cleaned['business_category_name'].map(business_category_mapping)\n",
        "test_profile_df_cleaned = test_profile_df_cleaned.drop(columns=['business_category_name'])\n",
        "\n",
        "\n"
      ]
    },
    {
      "cell_type": "code",
      "source": [
        "from sklearn.preprocessing import LabelEncoder\n",
        "\n",
        "# Initialize LabelEncoder\n",
        "label_encoder = LabelEncoder()\n",
        "\n",
        "# Encode the categories\n",
        "test_profile_df_cleaned['encoded_business_category'] = label_encoder.fit_transform(test_profile_df_cleaned['mapped_business_category'])\n",
        "\n",
        "# Save the mapping for reference\n",
        "category_mapping = dict(zip(label_encoder.classes_, label_encoder.transform(label_encoder.classes_)))\n",
        "print(\"Category Mapping:\", category_mapping)\n",
        "\n",
        "# Verify the encoded categories\n",
        "print(test_profile_df_cleaned[['mapped_business_category', 'encoded_business_category']].head())\n",
        "print(test_profile_df_cleaned.shape)"
      ],
      "metadata": {
        "colab": {
          "base_uri": "https://localhost:8080/"
        },
        "outputId": "d8d610b1-77f8-40e6-8c0f-fd7687a5a376",
        "id": "k4F6vlt8CSlH"
      },
      "execution_count": 450,
      "outputs": [
        {
          "output_type": "stream",
          "name": "stdout",
          "text": [
            "Category Mapping: {'entertainment': 0, 'fashion': 1, 'food': 2, 'general interest': 3, 'health and lifestyle': 4, 'home and lifestyle': 5, 'tech': 6, 'travel': 7, nan: 8}\n",
            "  mapped_business_category  encoded_business_category\n",
            "0                      NaN                          8\n",
            "1                      NaN                          8\n",
            "2                      NaN                          8\n",
            "3                      NaN                          8\n",
            "4                      NaN                          8\n",
            "(2674, 22)\n"
          ]
        }
      ]
    },
    {
      "cell_type": "code",
      "execution_count": 451,
      "metadata": {
        "id": "eM0JfGAVCSlH"
      },
      "outputs": [],
      "source": [
        "test_profile_df_cleaned['category_name']\n",
        "unique_category_name = test_profile_df_cleaned['category_name'].dropna().unique()\n",
        "\n",
        "category_name_mapping = {\n",
        "    # Food-related\n",
        "    'Restaurant': 'food',\n",
        "    'Cafe': 'food',\n",
        "    'Fast Food Restaurant': 'food',\n",
        "    'Grocery Store': 'food',\n",
        "    'Bakery': 'food',\n",
        "    'Seafood Restaurant': 'food',\n",
        "    'Turkish Restaurant': 'food',\n",
        "    'Comfort Food Restaurant': 'food',\n",
        "    'Specialty Grocery Store': 'food',\n",
        "    'Food & beverage': 'food',\n",
        "    'Food & Drink': 'food',\n",
        "    'Dessert Shop': 'food',\n",
        "    'Ice Cream Shop': 'food',\n",
        "    'Health Food Store': 'food',\n",
        "    'Health Food Restaurant': 'food',\n",
        "    'Food Consultant': 'food',\n",
        "    'Food Wholesaler': 'food',\n",
        "\n",
        "    # Art-related\n",
        "    'Art': 'art',\n",
        "    'Artist': 'art',\n",
        "    'Performing Arts': 'art',\n",
        "    'Visual Arts': 'art',\n",
        "    'Art School': 'art',\n",
        "    'Performance Art': 'art',\n",
        "    'Performance Art Theatre': 'art',\n",
        "    'Theatrical Productions': 'art',\n",
        "    'Arts & entertainment': 'art',\n",
        "    'Performing Arts School': 'art',\n",
        "    'Arts & Crafts Store': 'art',\n",
        "\n",
        "    # Entertainment-related\n",
        "    'TV channel': 'entertainment',\n",
        "    'Musician': 'entertainment',\n",
        "    'TV show': 'entertainment',\n",
        "    'Video creator': 'entertainment',\n",
        "    'Digital creator': 'entertainment',\n",
        "    'Music': 'entertainment',\n",
        "    'Comedian': 'entertainment',\n",
        "    'Dance & Night Club': 'entertainment',\n",
        "    'Media': 'entertainment',\n",
        "    'Movie Theater': 'entertainment',\n",
        "    'Broadcasting & media production company': 'entertainment',\n",
        "\n",
        "    # Fashion-related\n",
        "    'Clothing (Brand)': 'fashion',\n",
        "    'Jewelry & Watches Store': 'fashion',\n",
        "    'Jewelry/watches': 'fashion',\n",
        "    'Fashion Designer': 'fashion',\n",
        "    'Design & fashion': 'fashion',\n",
        "    'Beauty, cosmetic & personal care': 'fashion',\n",
        "    'Bridal Shop': 'fashion',\n",
        "    'Footwear store': 'fashion',\n",
        "    'Clothing store': 'fashion',\n",
        "    'Retail company': 'fashion',\n",
        "    'Sunglasses & Eyewear Store': 'fashion',\n",
        "\n",
        "    # Gaming-related\n",
        "    'Gaming video creator': 'gaming',\n",
        "    'Games/toys': 'gaming',\n",
        "    'Video Game Store': 'gaming',\n",
        "\n",
        "    # Health and Lifestyle\n",
        "    'Health/beauty': 'health and lifestyle',\n",
        "    'Vitamins/supplements': 'health and lifestyle',\n",
        "    'Health & wellness website': 'health and lifestyle',\n",
        "    'Hospital': 'health and lifestyle',\n",
        "    'Medical & health': 'health and lifestyle',\n",
        "    'Doctor': 'health and lifestyle',\n",
        "    'Dentist & Dental Office': 'health and lifestyle',\n",
        "    'Therapist': 'health and lifestyle',\n",
        "    'Plastic Surgeon': 'health and lifestyle',\n",
        "    'Pharmaceutical Company': 'health and lifestyle',\n",
        "    'Nutritionist': 'health and lifestyle',\n",
        "\n",
        "    # Mom and Children\n",
        "    'Baby goods/kids goods': 'mom and children',\n",
        "    \"Baby & children's clothing store\": 'mom and children',\n",
        "    'Child Development': 'mom and children',\n",
        "\n",
        "    # Sports-related\n",
        "    'Sports Club': 'sports',\n",
        "    'Sports league': 'sports',\n",
        "    'Sports Event': 'sports',\n",
        "    'Gym/Physical Fitness Center': 'sports',\n",
        "    'Sports team': 'sports',\n",
        "    'Athlete': 'sports',\n",
        "\n",
        "    # Tech-related\n",
        "    'Software Company': 'tech',\n",
        "    'Science, Technology & Engineering': 'tech',\n",
        "    'Information Technology Company': 'tech',\n",
        "    'Tech Company': 'tech',\n",
        "    'Computer Company': 'tech',\n",
        "    'App page': 'tech',\n",
        "    'Digital/Software': 'tech',\n",
        "\n",
        "    # Travel-related\n",
        "    'Tour Agency': 'travel',\n",
        "    'Hotel': 'travel',\n",
        "    'Hotel resort': 'travel',\n",
        "    'Transportation & Accomodation Services': 'travel',\n",
        "    'Travel Company': 'travel',\n",
        "    'Travel agency': 'travel',\n",
        "    'Beach Resort': 'travel',\n",
        "    'Boat Tour Agency': 'travel',\n",
        "    'Tourist Information Center': 'travel',\n",
        "    'Airline Company': 'travel',\n",
        "}\n",
        "\n",
        "test_profile_df_cleaned['mapped_category_name'] = test_profile_df_cleaned['category_name'].map(category_name_mapping)\n",
        "test_profile_df_cleaned = test_profile_df_cleaned.drop(columns=['category_name'])\n",
        "\n"
      ]
    },
    {
      "cell_type": "code",
      "source": [
        "from sklearn.preprocessing import LabelEncoder\n",
        "\n",
        "# Initialize LabelEncoder\n",
        "label_encoder = LabelEncoder()\n",
        "\n",
        "# Encode the categories\n",
        "test_profile_df_cleaned['encoded_category_name'] = label_encoder.fit_transform(test_profile_df_cleaned['mapped_category_name'])\n",
        "\n",
        "# Save the mapping for reference\n",
        "category_mapping = dict(zip(label_encoder.classes_, label_encoder.transform(label_encoder.classes_)))\n",
        "print(\"Category Mapping:\", category_mapping)\n",
        "\n",
        "# Verify the encoded categories\n",
        "print(test_profile_df_cleaned[['mapped_category_name', 'encoded_category_name']].head())\n",
        "print(test_profile_df_cleaned.shape)"
      ],
      "metadata": {
        "colab": {
          "base_uri": "https://localhost:8080/"
        },
        "outputId": "00ce2170-1b23-4a5c-b0b1-94c3a2673613",
        "id": "GJj5CPEWCSlH"
      },
      "execution_count": 452,
      "outputs": [
        {
          "output_type": "stream",
          "name": "stdout",
          "text": [
            "Category Mapping: {'art': 0, 'entertainment': 1, 'fashion': 2, 'food': 3, 'gaming': 4, 'health and lifestyle': 5, 'mom and children': 6, 'sports': 7, 'tech': 8, 'travel': 9, nan: 10}\n",
            "  mapped_category_name  encoded_category_name\n",
            "0                  NaN                     10\n",
            "1                  NaN                     10\n",
            "2                  NaN                     10\n",
            "3                  NaN                     10\n",
            "4                  NaN                     10\n",
            "(2674, 23)\n"
          ]
        }
      ]
    },
    {
      "cell_type": "code",
      "execution_count": 453,
      "metadata": {
        "id": "xmsiLFugCSlH"
      },
      "outputs": [],
      "source": [
        "\n",
        "unique_category_name = test_profile_df_cleaned['category_enum'].dropna().unique()\n",
        "\n",
        "category_enum_mapping = {\n",
        "    # Tech-related\n",
        "    'SOFTWARE_COMPANY': 'tech',\n",
        "    'INFORMATION_TECHNOLOGY_COMPANY': 'tech',\n",
        "    'DIGITAL_CREATOR': 'tech',\n",
        "    'ELECTRONICS': 'tech',\n",
        "    'APP': 'tech',\n",
        "    'ELECTRONICS_COMPANY': 'tech',\n",
        "    'COMPUTER_COMPANY': 'tech',\n",
        "    'SOFTWARE': 'tech',\n",
        "    'WEBSITE': 'tech',\n",
        "\n",
        "    # Entertainment-related\n",
        "    'DIGITAL_CREATOR': 'entertainment',\n",
        "    'MUSICIAN': 'entertainment',\n",
        "    'VIDEO_CREATOR': 'entertainment',\n",
        "    'TV_CHANNEL': 'entertainment',\n",
        "    'MOVIE_WRITER': 'entertainment',\n",
        "    'THEATRICAL_PRODUCTIONS': 'entertainment',\n",
        "    'PERFORMING_ARTS': 'entertainment',\n",
        "    'ACTOR': 'entertainment',\n",
        "    'RADIO_STATION': 'entertainment',\n",
        "    'TV_SHOW': 'entertainment',\n",
        "    'THEATRE': 'entertainment',\n",
        "\n",
        "    # Health and Lifestyle-related\n",
        "    'HEALTH_BEAUTY': 'health and lifestyle',\n",
        "    'HOSPITAL': 'health and lifestyle',\n",
        "    'HEALTH_SITE': 'health and lifestyle',\n",
        "    'MEDICAL_HEALTH': 'health and lifestyle',\n",
        "    'PHYSICAL_THERAPIST': 'health and lifestyle',\n",
        "    'MEDICAL_CENTER': 'health and lifestyle',\n",
        "    'SPA_BEAUTY_PERSONAL_CARE': 'health and lifestyle',\n",
        "    'DENTIST': 'health and lifestyle',\n",
        "    'VITAMIN_SUPPLEMENTS': 'health and lifestyle',\n",
        "\n",
        "    # Food-related\n",
        "    'RESTAURANT': 'food',\n",
        "    'FAST_FOOD_RESTAURANT': 'food',\n",
        "    'SEAFOOD_RESTAURANT': 'food',\n",
        "    'BAKERY': 'food',\n",
        "    'FAMILY_STYLE_RESTAURANT': 'food',\n",
        "    'CAFE': 'food',\n",
        "    'FOOD_COMPANY': 'food',\n",
        "    'FOOD_BEVERAGE': 'food',\n",
        "    'COMFORT_FOOD_RESTAURANT': 'food',\n",
        "\n",
        "    # Sports-related\n",
        "    'SPORTS_CLUB': 'sports',\n",
        "    'SPORTS_LEAGUE': 'sports',\n",
        "    'SPORTS_EVENT': 'sports',\n",
        "    'SPORTS_TEAM': 'sports',\n",
        "    'ATHLETE': 'sports',\n",
        "\n",
        "    # Travel-related\n",
        "    'TRAVEL_AGENCY': 'travel',\n",
        "    'HOTEL_LODGING': 'travel',\n",
        "    'BEACH_RESORT': 'travel',\n",
        "    'TOURISM': 'travel',\n",
        "    'TRAVEL_COMPANY': 'travel',\n",
        "\n",
        "    # Fashion-related\n",
        "    'CLOTHING': 'fashion',\n",
        "    'JEWELRY_STORE': 'fashion',\n",
        "    'SHOE_STORE': 'fashion',\n",
        "    'BOUTIQUE': 'fashion',\n",
        "\n",
        "    # Miscellaneous\n",
        "    'POLITICIAN': 'politics',\n",
        "    'GOVERNMENT_ORGANIZATION': 'government',\n",
        "    'NGO': 'nonprofit',\n",
        "    'COMMUNITY': 'community',\n",
        "    'PERSONAL_BLOG': 'blog',\n",
        "    'FINANCIAL_SERVICES': 'finance',\n",
        "    'CONSULTING_COMPANY': 'consulting',\n",
        "    'MEDIA_NEWS_COMPANY': 'media',\n",
        "    'NEWS_SITE': 'media',\n",
        "    'RADIO_STATION': 'media',\n",
        "}\n",
        "test_profile_df_cleaned['mapped_category_enum'] = test_profile_df_cleaned['category_enum'].map(category_enum_mapping)\n",
        "test_profile_df_cleaned = test_profile_df_cleaned.drop(columns=['category_enum'])\n",
        "\n"
      ]
    },
    {
      "cell_type": "code",
      "source": [
        "from sklearn.preprocessing import LabelEncoder\n",
        "\n",
        "# Initialize LabelEncoder\n",
        "label_encoder = LabelEncoder()\n",
        "\n",
        "# Encode the categories\n",
        "test_profile_df_cleaned['encoded_category_enum'] = label_encoder.fit_transform(test_profile_df_cleaned['mapped_category_enum'])\n",
        "\n",
        "# Save the mapping for reference\n",
        "category_mapping = dict(zip(label_encoder.classes_, label_encoder.transform(label_encoder.classes_)))\n",
        "print(\"Category Mapping:\", category_mapping)\n",
        "\n",
        "# Verify the encoded categories\n",
        "print(test_profile_df_cleaned[['mapped_category_enum', 'encoded_category_enum']].head())\n",
        "print(test_profile_df_cleaned.shape)"
      ],
      "metadata": {
        "colab": {
          "base_uri": "https://localhost:8080/"
        },
        "outputId": "2f51c575-bc6c-4b7b-9229-fa559813198b",
        "id": "ibu-2-XmCSlH"
      },
      "execution_count": 454,
      "outputs": [
        {
          "output_type": "stream",
          "name": "stdout",
          "text": [
            "Category Mapping: {'blog': 0, 'community': 1, 'consulting': 2, 'entertainment': 3, 'fashion': 4, 'food': 5, 'government': 6, 'health and lifestyle': 7, 'media': 8, 'nonprofit': 9, 'politics': 10, 'sports': 11, 'tech': 12, 'travel': 13, nan: 14}\n",
            "  mapped_category_enum  encoded_category_enum\n",
            "0                 blog                      0\n",
            "1                  NaN                     14\n",
            "2                  NaN                     14\n",
            "3        entertainment                      3\n",
            "4                media                      8\n",
            "(2674, 24)\n"
          ]
        }
      ]
    },
    {
      "cell_type": "code",
      "source": [
        "test_profile_df_cleaned.info()"
      ],
      "metadata": {
        "colab": {
          "base_uri": "https://localhost:8080/"
        },
        "outputId": "b186de43-0224-4a11-e0e8-65d7c64ce26e",
        "id": "HzWUm9r0CSlI"
      },
      "execution_count": 455,
      "outputs": [
        {
          "output_type": "stream",
          "name": "stdout",
          "text": [
            "<class 'pandas.core.frame.DataFrame'>\n",
            "RangeIndex: 2674 entries, 0 to 2673\n",
            "Data columns (total 24 columns):\n",
            " #   Column                       Non-Null Count  Dtype  \n",
            "---  ------                       --------------  -----  \n",
            " 0   username                     2674 non-null   object \n",
            " 1   id                           2674 non-null   object \n",
            " 2   biography                    2496 non-null   object \n",
            " 3   post_count                   2674 non-null   float64\n",
            " 4   follower_count               2674 non-null   int64  \n",
            " 5   following_count              2674 non-null   int64  \n",
            " 6   is_business_account          2674 non-null   int64  \n",
            " 7   is_private                   2674 non-null   int64  \n",
            " 8   is_verified                  2674 non-null   int64  \n",
            " 9   highlight_reel_count         2674 non-null   int64  \n",
            " 10  eimu_id                      2674 non-null   object \n",
            " 11  fbid                         2674 non-null   object \n",
            " 12  has_clips                    2674 non-null   int64  \n",
            " 13  hide_like_and_view_counts    2674 non-null   int64  \n",
            " 14  is_professional_account      2674 non-null   int64  \n",
            " 15  business_contact_method      2674 non-null   object \n",
            " 16  should_show_category         2674 non-null   int64  \n",
            " 17  should_show_public_contacts  2674 non-null   int64  \n",
            " 18  mapped_business_category     274 non-null    object \n",
            " 19  encoded_business_category    2674 non-null   int64  \n",
            " 20  mapped_category_name         735 non-null    object \n",
            " 21  encoded_category_name        2674 non-null   int64  \n",
            " 22  mapped_category_enum         538 non-null    object \n",
            " 23  encoded_category_enum        2674 non-null   int64  \n",
            "dtypes: float64(1), int64(14), object(9)\n",
            "memory usage: 501.5+ KB\n"
          ]
        }
      ]
    },
    {
      "cell_type": "markdown",
      "source": [
        "## POST DATA"
      ],
      "metadata": {
        "id": "XJgj9JCX5sU_"
      }
    },
    {
      "cell_type": "code",
      "source": [],
      "metadata": {
        "id": "vE5nch8f67-l"
      },
      "execution_count": 455,
      "outputs": []
    },
    {
      "cell_type": "code",
      "source": [
        "# Flatten posts data into a DataFrame\n",
        "post_flattened_data = []\n",
        "\n",
        "for username, posts in username2posts_train.items():\n",
        "    for post in posts:\n",
        "        post_data = post.copy()\n",
        "        post_data[\"username\"] = username  # Add username to each post\n",
        "        post_flattened_data.append(post_data)\n",
        "\n",
        "post_flattened_test_data = []\n",
        "\n",
        "for username, posts in username2posts_test.items():\n",
        "    for post in posts:\n",
        "        post_data = post.copy()\n",
        "        post_data[\"username\"] = username\n",
        "        post_flattened_test_data.append(post_data)\n",
        "\n",
        "# Create DataFrames\n",
        "train_posts_df = pd.DataFrame(post_flattened_data)\n",
        "test_posts_df = pd.DataFrame(post_flattened_test_data)\n",
        "\n",
        "\n",
        "# Display the DataFrame\n",
        "#print(train_posts_df.head(2))\n",
        "print(train_posts_df.columns)\n"
      ],
      "metadata": {
        "colab": {
          "base_uri": "https://localhost:8080/"
        },
        "id": "inv4vbw81xqZ",
        "outputId": "c035d3b6-ca0c-4d69-f2d6-c893f39c3b76"
      },
      "execution_count": 456,
      "outputs": [
        {
          "output_type": "stream",
          "name": "stdout",
          "text": [
            "Index(['caption', 'comments_count', 'id', 'like_count', 'media_type',\n",
            "       'media_url', 'timestamp', 'username'],\n",
            "      dtype='object')\n"
          ]
        }
      ]
    },
    {
      "cell_type": "markdown",
      "source": [
        "### Train"
      ],
      "metadata": {
        "id": "fzQ5y3GfD1oB"
      }
    },
    {
      "cell_type": "code",
      "source": [
        "#train_posts_df.rename(columns={ 'id': 'post_id'}, inplace=True)"
      ],
      "metadata": {
        "id": "fSFuevIv2niD"
      },
      "execution_count": 457,
      "outputs": []
    },
    {
      "cell_type": "code",
      "source": [
        "# Drop unnecesarry and null columns\n",
        "columns_to_drop = [ 'media_url']\n",
        "train_posts_df = train_posts_df.drop(columns=columns_to_drop)\n",
        "print(train_posts_df.info())"
      ],
      "metadata": {
        "colab": {
          "base_uri": "https://localhost:8080/"
        },
        "id": "ZtuBY2KB7mqz",
        "outputId": "641da4d0-14af-4ae8-f096-0c597feee4c8"
      },
      "execution_count": 458,
      "outputs": [
        {
          "output_type": "stream",
          "name": "stdout",
          "text": [
            "<class 'pandas.core.frame.DataFrame'>\n",
            "RangeIndex: 94824 entries, 0 to 94823\n",
            "Data columns (total 7 columns):\n",
            " #   Column          Non-Null Count  Dtype  \n",
            "---  ------          --------------  -----  \n",
            " 0   caption         91285 non-null  object \n",
            " 1   comments_count  94824 non-null  int64  \n",
            " 2   id              94824 non-null  object \n",
            " 3   like_count      91320 non-null  float64\n",
            " 4   media_type      94824 non-null  object \n",
            " 5   timestamp       94824 non-null  object \n",
            " 6   username        94824 non-null  object \n",
            "dtypes: float64(1), int64(1), object(5)\n",
            "memory usage: 5.1+ MB\n",
            "None\n"
          ]
        }
      ]
    },
    {
      "cell_type": "code",
      "source": [
        "#DERIVE INFO FROM MEDIA TYPE\n",
        "# One-hot encode media types\n",
        "one_hot_encoded_media_types = pd.get_dummies(train_posts_df['media_type'], prefix='media_type')\n",
        "\n",
        "# Concatenate the one-hot encoded columns with the original DataFrame\n",
        "train_posts_df_cleaned = pd.concat([train_posts_df, one_hot_encoded_media_types], axis=1)\n",
        "\n",
        "train_posts_df_cleaned = train_posts_df_cleaned.drop(columns = 'media_type')\n",
        "# Verify the result\n",
        "print(\"One-Hot Encoded Media Types:\")\n",
        "print(train_posts_df_cleaned.head())\n",
        "\n",
        "media_columns = ['media_type_VIDEO', 'media_type_IMAGE','media_type_CAROUSEL_ALBUM']\n",
        "for col in media_columns:\n",
        "    train_posts_df_cleaned[col] = train_posts_df_cleaned[col].astype(int)"
      ],
      "metadata": {
        "colab": {
          "base_uri": "https://localhost:8080/"
        },
        "id": "bOf_zJgJ8ZxG",
        "outputId": "412bf2b9-7a18-40a8-9b64-075e4f87fadf"
      },
      "execution_count": 459,
      "outputs": [
        {
          "output_type": "stream",
          "name": "stdout",
          "text": [
            "One-Hot Encoded Media Types:\n",
            "                                             caption  comments_count  \\\n",
            "0          Cumhuriyetimizin 100.yılı kutlu olsun♾️🇹🇷               0   \n",
            "1  Oriflame Duologi Lansmanı #isveçtengelengüzell...               1   \n",
            "2                     #oriflameilesaçbakımdevrimi ✌️               0   \n",
            "3  ✌️#oriflameilesaçbakımdevrimi 07Agustos’23 ori...               1   \n",
            "4            07 Agustos’23 #oriflameturkiye #duoloji               0   \n",
            "\n",
            "                  id  like_count            timestamp    username  \\\n",
            "0  17990918969458720         6.0  2023-10-29 09:12:30  deparmedya   \n",
            "1  18219250732221045        22.0  2023-08-08 19:11:13  deparmedya   \n",
            "2  18311380465102328        19.0  2023-08-07 21:40:54  deparmedya   \n",
            "3  18089518138361507        19.0  2023-08-07 21:27:48  deparmedya   \n",
            "4  18012743929758497        21.0  2023-08-07 21:12:06  deparmedya   \n",
            "\n",
            "   media_type_CAROUSEL_ALBUM  media_type_IMAGE  media_type_VIDEO  \n",
            "0                      False              True             False  \n",
            "1                      False             False              True  \n",
            "2                      False             False              True  \n",
            "3                      False             False              True  \n",
            "4                      False             False              True  \n"
          ]
        }
      ]
    },
    {
      "cell_type": "code",
      "source": [
        "# Convert timestamp to datetime and extract derived features\n",
        "train_posts_df_cleaned['timestamp'] = pd.to_datetime(train_posts_df_cleaned['timestamp'])\n",
        "\n",
        "train_posts_df_cleaned['hour'] = train_posts_df_cleaned['timestamp'].dt.hour\n",
        "train_posts_df_cleaned['day'] = train_posts_df_cleaned['timestamp'].dt.day\n",
        "train_posts_df_cleaned['weekday'] = train_posts_df_cleaned['timestamp'].dt.weekday\n",
        "\n",
        "# Drop the original timestamp column if not needed\n",
        "train_posts_df_cleaned.drop(columns=['timestamp'], inplace=True)\n",
        "\n",
        "# Verify the new features\n",
        "print(train_posts_df_cleaned[['hour', 'day', 'weekday']].head())\n"
      ],
      "metadata": {
        "colab": {
          "base_uri": "https://localhost:8080/"
        },
        "id": "Y5TAcWb69ax5",
        "outputId": "3766fde5-d0b8-4c3a-de65-20e695a914b6"
      },
      "execution_count": 460,
      "outputs": [
        {
          "output_type": "stream",
          "name": "stdout",
          "text": [
            "   hour  day  weekday\n",
            "0     9   29        6\n",
            "1    19    8        1\n",
            "2    21    7        0\n",
            "3    21    7        0\n",
            "4    21    7        0\n"
          ]
        }
      ]
    },
    {
      "cell_type": "code",
      "source": [
        "print(train_posts_df_cleaned.info())"
      ],
      "metadata": {
        "colab": {
          "base_uri": "https://localhost:8080/"
        },
        "id": "yyluWeTm9rcv",
        "outputId": "f32e2118-b258-4dd9-db28-8c8db4dbbcbf"
      },
      "execution_count": 461,
      "outputs": [
        {
          "output_type": "stream",
          "name": "stdout",
          "text": [
            "<class 'pandas.core.frame.DataFrame'>\n",
            "RangeIndex: 94824 entries, 0 to 94823\n",
            "Data columns (total 11 columns):\n",
            " #   Column                     Non-Null Count  Dtype  \n",
            "---  ------                     --------------  -----  \n",
            " 0   caption                    91285 non-null  object \n",
            " 1   comments_count             94824 non-null  int64  \n",
            " 2   id                         94824 non-null  object \n",
            " 3   like_count                 91320 non-null  float64\n",
            " 4   username                   94824 non-null  object \n",
            " 5   media_type_CAROUSEL_ALBUM  94824 non-null  int64  \n",
            " 6   media_type_IMAGE           94824 non-null  int64  \n",
            " 7   media_type_VIDEO           94824 non-null  int64  \n",
            " 8   hour                       94824 non-null  int32  \n",
            " 9   day                        94824 non-null  int32  \n",
            " 10  weekday                    94824 non-null  int32  \n",
            "dtypes: float64(1), int32(3), int64(4), object(3)\n",
            "memory usage: 6.9+ MB\n",
            "None\n"
          ]
        }
      ]
    },
    {
      "cell_type": "markdown",
      "source": [
        "### Test"
      ],
      "metadata": {
        "id": "gpQUJwj2D5zZ"
      }
    },
    {
      "cell_type": "code",
      "source": [
        "#test_posts_df.rename(columns={ 'id': 'post_id'}, inplace=True)"
      ],
      "metadata": {
        "id": "chiA5aWTD5zZ"
      },
      "execution_count": 462,
      "outputs": []
    },
    {
      "cell_type": "code",
      "source": [
        "# Drop unnecesarry and null columns\n",
        "columns_to_drop = [ 'media_url']\n",
        "test_posts_df = test_posts_df.drop(columns=columns_to_drop)\n",
        "print(test_posts_df.info())"
      ],
      "metadata": {
        "colab": {
          "base_uri": "https://localhost:8080/"
        },
        "id": "JkV121pnD5za",
        "outputId": "1a9c6eda-ae6e-4519-fe63-c85c08853460"
      },
      "execution_count": 463,
      "outputs": [
        {
          "output_type": "stream",
          "name": "stdout",
          "text": [
            "<class 'pandas.core.frame.DataFrame'>\n",
            "RangeIndex: 92478 entries, 0 to 92477\n",
            "Data columns (total 7 columns):\n",
            " #   Column          Non-Null Count  Dtype  \n",
            "---  ------          --------------  -----  \n",
            " 0   caption         89383 non-null  object \n",
            " 1   comments_count  92478 non-null  int64  \n",
            " 2   id              92478 non-null  object \n",
            " 3   like_count      91763 non-null  float64\n",
            " 4   media_type      92478 non-null  object \n",
            " 5   timestamp       92478 non-null  object \n",
            " 6   username        92478 non-null  object \n",
            "dtypes: float64(1), int64(1), object(5)\n",
            "memory usage: 4.9+ MB\n",
            "None\n"
          ]
        }
      ]
    },
    {
      "cell_type": "code",
      "source": [
        "#DERIVE INFO FROM MEDIA TYPE\n",
        "# One-hot encode media types\n",
        "one_hot_encoded_media_types = pd.get_dummies(test_posts_df['media_type'], prefix='media_type')\n",
        "\n",
        "# Concatenate the one-hot encoded columns with the original DataFrame\n",
        "test_posts_df_cleaned = pd.concat([test_posts_df, one_hot_encoded_media_types], axis=1)\n",
        "\n",
        "test_posts_df_cleaned = test_posts_df_cleaned.drop(columns = 'media_type')\n",
        "# Verify the result\n",
        "print(\"One-Hot Encoded Media Types:\")\n",
        "print(test_posts_df_cleaned.head())\n",
        "\n",
        "media_columns = ['media_type_VIDEO', 'media_type_IMAGE','media_type_CAROUSEL_ALBUM']\n",
        "for col in media_columns:\n",
        "    test_posts_df_cleaned[col] = test_posts_df_cleaned[col].astype(int)"
      ],
      "metadata": {
        "colab": {
          "base_uri": "https://localhost:8080/"
        },
        "outputId": "8d04467d-bb81-49b5-ca47-27e346906ced",
        "id": "L4zeNi9tD5za"
      },
      "execution_count": 464,
      "outputs": [
        {
          "output_type": "stream",
          "name": "stdout",
          "text": [
            "One-Hot Encoded Media Types:\n",
            "                                             caption  comments_count  \\\n",
            "0  Bu diyaloğun yaşanmadığı bir online toplantı o...               0   \n",
            "1  Evet Ocak ayında beyaz yakalı whatsup grupları...               2   \n",
            "2   Yine yuzlercesini gorecegimiz maillerden biri 😀🙈               1   \n",
            "3                                   İyi haftalar ! 😀               0   \n",
            "4                                        Bir iç ses😀               0   \n",
            "\n",
            "                  id  like_count            timestamp        username  \\\n",
            "0  17934192878560092        15.0  2023-04-26 18:12:46  beyazyakaliyiz   \n",
            "1  17984334430863265        10.0  2023-01-30 22:23:39  beyazyakaliyiz   \n",
            "2  17959523612091085        14.0  2022-10-25 07:00:08  beyazyakaliyiz   \n",
            "3  17953007285187318         6.0  2022-10-24 08:18:03  beyazyakaliyiz   \n",
            "4  17963586901967134        10.0  2022-10-14 08:33:03  beyazyakaliyiz   \n",
            "\n",
            "   media_type_CAROUSEL_ALBUM  media_type_IMAGE  media_type_VIDEO  \n",
            "0                      False              True             False  \n",
            "1                      False              True             False  \n",
            "2                      False              True             False  \n",
            "3                      False              True             False  \n",
            "4                      False              True             False  \n"
          ]
        }
      ]
    },
    {
      "cell_type": "code",
      "source": [
        "# Convert timestamp to datetime and extract derived features\n",
        "test_posts_df_cleaned['timestamp'] = pd.to_datetime(test_posts_df_cleaned['timestamp'])\n",
        "\n",
        "test_posts_df_cleaned['hour'] = test_posts_df_cleaned['timestamp'].dt.hour\n",
        "test_posts_df_cleaned['day'] = test_posts_df_cleaned['timestamp'].dt.day\n",
        "test_posts_df_cleaned['weekday'] = test_posts_df_cleaned['timestamp'].dt.weekday\n",
        "\n",
        "# Drop the original timestamp column if not needed\n",
        "test_posts_df_cleaned.drop(columns=['timestamp'], inplace=True)\n",
        "\n",
        "# Verify the new features\n",
        "print(test_posts_df_cleaned[['hour', 'day', 'weekday']].head())\n"
      ],
      "metadata": {
        "colab": {
          "base_uri": "https://localhost:8080/"
        },
        "outputId": "5a4721ab-0d9d-4d6d-fb8b-c6790b857307",
        "id": "eXnDiuYeD5za"
      },
      "execution_count": 465,
      "outputs": [
        {
          "output_type": "stream",
          "name": "stdout",
          "text": [
            "   hour  day  weekday\n",
            "0    18   26        2\n",
            "1    22   30        0\n",
            "2     7   25        1\n",
            "3     8   24        0\n",
            "4     8   14        4\n"
          ]
        }
      ]
    },
    {
      "cell_type": "code",
      "source": [
        "print(test_posts_df_cleaned.info())"
      ],
      "metadata": {
        "colab": {
          "base_uri": "https://localhost:8080/"
        },
        "outputId": "8cd0e055-403f-4fa6-bd58-17b6d7d735d9",
        "id": "Gyt_dqrMD5za"
      },
      "execution_count": 466,
      "outputs": [
        {
          "output_type": "stream",
          "name": "stdout",
          "text": [
            "<class 'pandas.core.frame.DataFrame'>\n",
            "RangeIndex: 92478 entries, 0 to 92477\n",
            "Data columns (total 11 columns):\n",
            " #   Column                     Non-Null Count  Dtype  \n",
            "---  ------                     --------------  -----  \n",
            " 0   caption                    89383 non-null  object \n",
            " 1   comments_count             92478 non-null  int64  \n",
            " 2   id                         92478 non-null  object \n",
            " 3   like_count                 91763 non-null  float64\n",
            " 4   username                   92478 non-null  object \n",
            " 5   media_type_CAROUSEL_ALBUM  92478 non-null  int64  \n",
            " 6   media_type_IMAGE           92478 non-null  int64  \n",
            " 7   media_type_VIDEO           92478 non-null  int64  \n",
            " 8   hour                       92478 non-null  int32  \n",
            " 9   day                        92478 non-null  int32  \n",
            " 10  weekday                    92478 non-null  int32  \n",
            "dtypes: float64(1), int32(3), int64(4), object(3)\n",
            "memory usage: 6.7+ MB\n",
            "None\n"
          ]
        }
      ]
    },
    {
      "cell_type": "markdown",
      "source": [
        "# CLASSIFICATION-PREDICTION MODELS"
      ],
      "metadata": {
        "id": "Ouo4EPEr4NKX"
      }
    },
    {
      "cell_type": "code",
      "source": [
        "train_merged_df = pd.merge(train_posts_df, train_profile_df, on='username', how='inner')\n"
      ],
      "metadata": {
        "id": "lQxZxvm-QHUg"
      },
      "execution_count": 467,
      "outputs": []
    },
    {
      "cell_type": "markdown",
      "source": [
        "## CLASSIFICATION"
      ],
      "metadata": {
        "id": "NixwE_zmqqb8"
      }
    },
    {
      "cell_type": "markdown",
      "metadata": {
        "id": "Wr9pf0subhSp"
      },
      "source": [
        "### TEXT DATA"
      ]
    },
    {
      "cell_type": "code",
      "execution_count": 468,
      "metadata": {
        "colab": {
          "base_uri": "https://localhost:8080/"
        },
        "id": "ghMtXJq5l7rR",
        "outputId": "ca0b56a9-2e61-4a11-859f-25bbfe0cff43"
      },
      "outputs": [
        {
          "output_type": "stream",
          "name": "stderr",
          "text": [
            "[nltk_data] Downloading package stopwords to /root/nltk_data...\n",
            "[nltk_data]   Package stopwords is already up-to-date!\n"
          ]
        }
      ],
      "source": [
        "#@title Turkish StopWords\n",
        "\n",
        "import nltk\n",
        "from nltk.corpus import stopwords\n",
        "\n",
        "nltk.download('stopwords')\n",
        "turkish_stopwords = stopwords.words('turkish')\n",
        "english_stopwords = stopwords.words('english')\n",
        "# Convert stopword set to a list\n",
        "combined_stopwords = list(turkish_stopwords + english_stopwords)\n"
      ]
    },
    {
      "cell_type": "code",
      "execution_count": 469,
      "metadata": {
        "id": "fUjTcNJzE08A"
      },
      "outputs": [],
      "source": [
        "import re\n",
        "import string\n",
        "\n",
        "import re\n",
        "\n",
        "def preprocess_and_remove_stopwords(text, stopwords_set):\n",
        "    # Lowercase the text\n",
        "    text = text.lower()\n",
        "    # Remove special characters and numbers\n",
        "    text = re.sub(r'[^a-zA-ZçğıöşüÇĞİÖŞÜ\\s]', '', text)\n",
        "    # Tokenize and remove stopwords\n",
        "    tokens = text.split()\n",
        "    filtered_tokens = [word for word in tokens if word not in stopwords_set]\n",
        "    # Join tokens back into a single string\n",
        "    return ' '.join(filtered_tokens)\n",
        "\n",
        "\n"
      ]
    },
    {
      "cell_type": "code",
      "execution_count": 470,
      "metadata": {
        "colab": {
          "base_uri": "https://localhost:8080/"
        },
        "id": "ykGs--vGrXu8",
        "outputId": "f4f8a5f7-5668-45d8-c394-f0e447231df3"
      },
      "outputs": [
        {
          "output_type": "stream",
          "name": "stdout",
          "text": [
            "Aggregated Captions from Posts:\n",
            "               username                     aggregated_captions_from_posts\n",
            "0            deparmedya  cumhuriyetimizin yılı kutlu olsun\\noriflame du...\n",
            "1            kafesfirin  bugün bir fincan köpüklü türk kahvesiyle taçla...\n",
            "2              vimerang  saygı özlemle atatürk kasım kasim vimerang\\nde...\n",
            "3     mustafa_yalcinn38  altınoluk çevre şehircilik iklim değişikliği b...\n",
            "4  zorluenergysolutions  güne enerjik bir sohbet devam etmek ister misi...\n"
          ]
        }
      ],
      "source": [
        "corpus = []  # Stores aggregated captions for each user\n",
        "train_usernames = []  # Keeps usernames to maintain label order\n",
        "\n",
        "# Aggregate captions by user\n",
        "for username, posts in username2posts_train.items():\n",
        "    train_usernames.append(username)\n",
        "\n",
        "    # Collect and preprocess captions\n",
        "    cleaned_captions = []\n",
        "    for post in posts:\n",
        "        post_caption = post.get(\"caption\", \"\")\n",
        "        if post_caption:  # Skip None or empty captions\n",
        "            post_caption = preprocess_and_remove_stopwords(post_caption,combined_stopwords)\n",
        "            cleaned_captions.append(post_caption)\n",
        "\n",
        "    # Combine captions for the user\n",
        "    user_post_captions = \"\\n\".join(cleaned_captions)\n",
        "    corpus.append(user_post_captions)\n",
        "\n",
        "# Create a DataFrame for user-level aggregated captions\n",
        "user_captions_df = pd.DataFrame({\n",
        "    'username': train_usernames,\n",
        "    'aggregated_captions_from_posts': corpus\n",
        "})\n",
        "\n",
        "print(\"Aggregated Captions from Posts:\")\n",
        "print(user_captions_df.head())\n"
      ]
    },
    {
      "cell_type": "code",
      "source": [
        "test_corpus = []  # Stores aggregated captions for each user (test data)\n",
        "test_usernames = []  # Keeps usernames to maintain label order for test data\n",
        "\n",
        "# Aggregate captions by user in the test set\n",
        "for username, posts in username2posts_test.items():\n",
        "    test_usernames.append(username)\n",
        "\n",
        "    # Collect and preprocess captions for test users\n",
        "    cleaned_captions = []\n",
        "    for post in posts:\n",
        "        post_caption = post.get(\"caption\", \"\")\n",
        "        if post_caption:  # Skip None or empty captions\n",
        "            post_caption = preprocess_and_remove_stopwords(post_caption, combined_stopwords)\n",
        "            cleaned_captions.append(post_caption)\n",
        "\n",
        "    # Combine captions for the user in test data\n",
        "    user_post_captions = \"\\n\".join(cleaned_captions)\n",
        "    test_corpus.append(user_post_captions)\n",
        "\n",
        "# Create a DataFrame for user-level aggregated captions for test data\n",
        "user_captions_test_df = pd.DataFrame({\n",
        "    'username': test_usernames,\n",
        "    'aggregated_captions_from_posts': test_corpus\n",
        "})\n",
        "\n",
        "print(\"Aggregated Captions from Posts (Test Data):\")\n",
        "print(user_captions_test_df.head())\n"
      ],
      "metadata": {
        "colab": {
          "base_uri": "https://localhost:8080/"
        },
        "id": "y-DQZElDw2Kf",
        "outputId": "e6e5831e-af17-4901-bf9d-fbf46716ff46"
      },
      "execution_count": 471,
      "outputs": [
        {
          "output_type": "stream",
          "name": "stdout",
          "text": [
            "Aggregated Captions from Posts (Test Data):\n",
            "                     username  \\\n",
            "0              beyazyakaliyiz   \n",
            "1  totalenergies_istasyonlari   \n",
            "2                 konforyatak   \n",
            "3                    ht_kulup   \n",
            "4                   ajansspor   \n",
            "\n",
            "                      aggregated_captions_from_posts  \n",
            "0  diyaloğun yaşanmadığı bir online toplantı olma...  \n",
            "1  başöğretmenimiz gazi mustafa kemal atatürkün ı...  \n",
            "2  pure active yatak yumuşacık sağlıklı bir uyku ...  \n",
            "3  ht kulüp yeni bölümüyle pazar akşamı saat bloo...  \n",
            "4  adana demirsporun kasım ayı takvimi kaç puan g...  \n"
          ]
        }
      ]
    },
    {
      "cell_type": "code",
      "execution_count": 472,
      "metadata": {
        "colab": {
          "base_uri": "https://localhost:8080/"
        },
        "id": "aQ-0Dtomrztw",
        "outputId": "50d6a2fb-6571-41af-d549-073af84ca5ec"
      },
      "outputs": [
        {
          "output_type": "stream",
          "name": "stdout",
          "text": [
            "Aggregated Biographies:\n",
            "               username                                processed_biography\n",
            "0            deparmedya              mediaplanning mediabuying sosyalmedya\n",
            "1            kafesfirin  sogutozuftz avm ankara macrocenter migroslarda...\n",
            "2              vimerang          dijital iletişim yönetimiinfovimerangcomq\n",
            "3     mustafa_yalcinn38                             talas belediye baskanı\n",
            "4  zorluenergysolutions  türkiyenin ilindeki yaygın elektrikli şarj ist...\n"
          ]
        }
      ],
      "source": [
        "biography_corpus = []  # Stores aggregated biographies for each user\n",
        "train_usernames = []  # Keeps usernames to maintain label order\n",
        "\n",
        "# Aggregate biographies by user\n",
        "for username, profile in username2profile_train.items():  # Adjust key based on your data structure\n",
        "    train_usernames.append(username)\n",
        "\n",
        "    # Collect and preprocess biography\n",
        "    biography_text = profile.get(\"biography\", \"\")\n",
        "    if biography_text:  # Skip None or empty biographies\n",
        "        biography_text = preprocess_and_remove_stopwords(biography_text, combined_stopwords)\n",
        "\n",
        "    # Add processed biography to the corpus\n",
        "    biography_corpus.append(biography_text)\n",
        "\n",
        "# Create a DataFrame for user-level aggregated biographies\n",
        "user_biographies_df = pd.DataFrame({\n",
        "    'username': train_usernames,\n",
        "    'processed_biography': biography_corpus\n",
        "})\n",
        "\n",
        "print(\"Aggregated Biographies:\")\n",
        "print(user_biographies_df.head())\n",
        "\n",
        "\n",
        "\n"
      ]
    },
    {
      "cell_type": "code",
      "source": [
        "biography_corpus_test = []  # Stores aggregated biographies for each user (test data)\n",
        "test_usernames = []  # Keeps usernames to maintain label order for test data\n",
        "\n",
        "# Aggregate biographies by user in the test set\n",
        "for username, profile in username2profile_test.items():  # Adjust key based on your test data structure\n",
        "    test_usernames.append(username)\n",
        "\n",
        "    # Collect and preprocess biography for test users\n",
        "    biography_text = profile.get(\"biography\", \"\")\n",
        "    if biography_text:  # Skip None or empty biographies\n",
        "        biography_text = preprocess_and_remove_stopwords(biography_text, combined_stopwords)\n",
        "\n",
        "    # Add processed biography to the test corpus\n",
        "    biography_corpus_test.append(biography_text)\n",
        "\n",
        "# Create a DataFrame for user-level aggregated biographies for test data\n",
        "user_biographies_test_df = pd.DataFrame({\n",
        "    'username': test_usernames,\n",
        "    'processed_biography': biography_corpus_test\n",
        "})\n",
        "\n",
        "print(\"Aggregated Biographies (Test Data):\")\n",
        "print(user_biographies_test_df.head())\n"
      ],
      "metadata": {
        "colab": {
          "base_uri": "https://localhost:8080/"
        },
        "id": "YrqDs6cgwdcl",
        "outputId": "e8c95a23-7691-4fd2-b564-fbcf4e454546"
      },
      "execution_count": 473,
      "outputs": [
        {
          "output_type": "stream",
          "name": "stdout",
          "text": [
            "Aggregated Biographies (Test Data):\n",
            "                     username  \\\n",
            "0              beyazyakaliyiz   \n",
            "1  totalenergies_istasyonlari   \n",
            "2                 konforyatak   \n",
            "3                    ht_kulup   \n",
            "4                   ajansspor   \n",
            "\n",
            "                                 processed_biography  \n",
            "0            beyaz yakalıların dünyasına hoşgeldiniz  \n",
            "1  totalenergies istasyonları resmi instagram hes...  \n",
            "2  konfor yatak birbirinden farklı özelliklere sa...  \n",
            "3                      bloomberght habertürk magazin  \n",
            "4  saran group anında tarafsız spor haberleri twi...  \n"
          ]
        }
      ]
    },
    {
      "cell_type": "code",
      "execution_count": 474,
      "metadata": {
        "id": "6INlrMI0z1nk"
      },
      "outputs": [],
      "source": [
        "train_profile_df_cleaned.reset_index(drop=True, inplace=True)\n",
        "user_biographies_df.reset_index(drop=True, inplace=True)\n",
        "user_captions_df.reset_index(drop=True, inplace=True)\n"
      ]
    },
    {
      "cell_type": "code",
      "source": [
        "test_profile_df_cleaned.reset_index(drop=True, inplace=True)\n",
        "user_captions_test_df.reset_index(drop=True, inplace=True)\n",
        "user_biographies_test_df.reset_index(drop=True, inplace=True)\n"
      ],
      "metadata": {
        "id": "dDU2jHdfxDbO"
      },
      "execution_count": 475,
      "outputs": []
    },
    {
      "cell_type": "markdown",
      "metadata": {
        "id": "Qi9VoImY3uhC"
      },
      "source": [
        "#### TF-IDF VECTORIZER"
      ]
    },
    {
      "cell_type": "code",
      "execution_count": 476,
      "metadata": {
        "colab": {
          "base_uri": "https://localhost:8080/"
        },
        "id": "b52rVNbbiGlA",
        "outputId": "5e207a12-8647-4443-9515-0754157410ad"
      },
      "outputs": [
        {
          "output_type": "stream",
          "name": "stdout",
          "text": [
            "TF-IDF matrix shape: (2741, 5000)\n"
          ]
        }
      ],
      "source": [
        "from sklearn.feature_extraction.text import TfidfVectorizer\n",
        "\n",
        "vectorizer = TfidfVectorizer(\n",
        "    stop_words=combined_stopwords,\n",
        "    max_features=5000,\n",
        "    ngram_range=(1, 2)\n",
        ")\n",
        "\n",
        "# Fit and transform the processed captions\n",
        "tfidf_features_caption = vectorizer.fit_transform(user_captions_df['aggregated_captions_from_posts'])\n",
        "\n",
        "tfidf_features_caption_test = vectorizer.transform(user_captions_test_df['aggregated_captions_from_posts'])\n",
        "\n",
        "# View the TF-IDF matrix shape\n",
        "print(\"TF-IDF matrix shape:\", tfidf_features_caption.shape)\n"
      ]
    },
    {
      "cell_type": "code",
      "execution_count": 477,
      "metadata": {
        "colab": {
          "base_uri": "https://localhost:8080/"
        },
        "id": "yNoIcwTe_afE",
        "outputId": "04c262fd-2827-444a-a3fb-cff9d03beb1c"
      },
      "outputs": [
        {
          "output_type": "execute_result",
          "data": {
            "text/plain": [
              "array(['abdullah', 'abone', 'acele', ..., 'şık bir', 'şıklık', 'şıklığı'],\n",
              "      dtype=object)"
            ]
          },
          "metadata": {},
          "execution_count": 477
        }
      ],
      "source": [
        "feature_names = vectorizer.get_feature_names_out()\n",
        "feature_names"
      ]
    },
    {
      "cell_type": "code",
      "execution_count": 478,
      "metadata": {
        "colab": {
          "base_uri": "https://localhost:8080/"
        },
        "id": "B8BauZRul8iA",
        "outputId": "3f30986d-56ef-4379-b3c2-04610d8f10d3"
      },
      "outputs": [
        {
          "output_type": "stream",
          "name": "stdout",
          "text": [
            "TF-IDF matrix shape: (2741, 700)\n"
          ]
        }
      ],
      "source": [
        "from sklearn.feature_extraction.text import TfidfVectorizer\n",
        "user_biographies_df['processed_biography'] = user_biographies_df['processed_biography'].fillna(\"\")\n",
        "user_biographies_test_df['processed_biography'] = user_biographies_test_df['processed_biography'].fillna(\"\")\n",
        "\n",
        "vectorizer = TfidfVectorizer(\n",
        "    stop_words=combined_stopwords,\n",
        "    max_features=700,\n",
        "    ngram_range=(1, 2)\n",
        ")\n",
        "\n",
        "# Fit and transform the processed biography\n",
        "tfidf_features_biography = vectorizer.fit_transform(user_biographies_df['processed_biography'])\n",
        "\n",
        "tfidf_features_biography_test = vectorizer.transform(user_biographies_test_df['processed_biography'])\n",
        "\n",
        "\n",
        "# View the TF-IDF matrix shape\n",
        "print(\"TF-IDF matrix shape:\", tfidf_features_biography.shape)\n",
        "\n",
        "\n"
      ]
    },
    {
      "cell_type": "markdown",
      "metadata": {
        "id": "X6zZLTw330ze"
      },
      "source": [
        "#### MERGE DATAFRAMES"
      ]
    },
    {
      "cell_type": "code",
      "execution_count": 479,
      "metadata": {
        "id": "uzrjJpXZmm4E"
      },
      "outputs": [],
      "source": [
        "# Convert TF-IDF matrices to dense arrays\n",
        "biography_tfidf_dense = tfidf_features_biography.toarray()\n",
        "caption_tfidf_dense = tfidf_features_caption.toarray()\n",
        "\n",
        "biography_tfidf_dense_test = tfidf_features_biography_test.toarray()\n",
        "caption_tfidf_dense_test = tfidf_features_caption_test.toarray()"
      ]
    },
    {
      "cell_type": "code",
      "execution_count": 480,
      "metadata": {
        "id": "ZMSdgZFfmxOX"
      },
      "outputs": [],
      "source": [
        "# Generate column names for biography TF-IDF features\n",
        "biography_feature_names = [f\"biography_tfidf_{i}\" for i in range(biography_tfidf_dense.shape[1])]\n",
        "\n",
        "# Generate column names for caption TF-IDF features\n",
        "caption_feature_names = [f\"caption_tfidf_{i}\" for i in range(caption_tfidf_dense.shape[1])]\n",
        "\n",
        "biography_feature_names_test = [f\"biography_tfidf_{i}\" for i in range(biography_tfidf_dense_test.shape[1])]\n",
        "caption_feature_names_test = [f\"caption_tfidf_{i}\" for i in range(caption_tfidf_dense_test.shape[1])]\n"
      ]
    },
    {
      "cell_type": "code",
      "execution_count": 481,
      "metadata": {
        "id": "kzV-1iecm0Od"
      },
      "outputs": [],
      "source": [
        "import pandas as pd\n",
        "\n",
        "# Create DataFrames for TF-IDF features\n",
        "biography_tfidf_df = pd.DataFrame(biography_tfidf_dense, columns=biography_feature_names)\n",
        "caption_tfidf_df = pd.DataFrame(caption_tfidf_dense, columns=caption_feature_names)\n",
        "\n",
        "\n",
        "biography_tfidf_df['username'] = train_profile_df_cleaned['username'].reset_index(drop=True)\n",
        "caption_tfidf_df['username'] = train_profile_df_cleaned['username'].reset_index(drop=True)\n",
        "\n",
        "\n",
        "# Concatenate weighted biography features with caption features\n",
        "combined_tfidf_df = pd.concat([\n",
        "    biography_tfidf_df.set_index('username'),\n",
        "    caption_tfidf_df.set_index('username'),\n",
        "], axis=1)\n",
        "\n",
        "biography_tfidf_df_test = pd.DataFrame(biography_tfidf_dense_test, columns=biography_feature_names_test)\n",
        "caption_tfidf_df_test = pd.DataFrame(caption_tfidf_dense_test, columns=caption_feature_names_test)\n",
        "\n",
        "\n",
        "biography_tfidf_df_test['username'] = test_profile_df_cleaned['username'].reset_index(drop=True)\n",
        "caption_tfidf_df_test['username'] = test_profile_df_cleaned['username'].reset_index(drop=True)\n",
        "\n",
        "combined_tfidf_df_test = pd.concat([\n",
        "    biography_tfidf_df_test.set_index('username'),\n",
        "    caption_tfidf_df_test.set_index('username'),\n",
        "], axis=1)"
      ]
    },
    {
      "cell_type": "code",
      "execution_count": 482,
      "metadata": {
        "id": "vyBHk-uCtzR0"
      },
      "outputs": [],
      "source": [
        "\n",
        "\n",
        "#train_cleaned_with_tfidf = pd.concat([train_profile_df_cleaned.reset_index(drop=True), biography_tfidf_df, caption_tfidf_df], axis=1)\n",
        "\n",
        "#train_cleaned_with_tfidf.shape\n",
        "#print(train_cleaned_with_tfidf.info())"
      ]
    },
    {
      "cell_type": "code",
      "source": [
        "from sklearn.preprocessing import LabelEncoder\n",
        "y_train_ilk = [username2_category.get(uname, \"NA\") for uname in train_usernames]\n",
        "\n",
        "# Encode y_train_ilk\n",
        "label_encoder = LabelEncoder()\n",
        "y_train_encoded = label_encoder.fit_transform(y_train_ilk)\n"
      ],
      "metadata": {
        "id": "zMccBvM2fUYo"
      },
      "execution_count": 483,
      "outputs": []
    },
    {
      "cell_type": "code",
      "source": [
        "# Add the encoded target to the DataFrame\n",
        "# Example of converting boolean columns to integers\n",
        "#train_profile_df_cleaned['is_biography_entities_identical'] = train_profile_df_cleaned['is_biography_entities_identical'].astype(int)\n",
        "\n",
        "# Select relevant numeric columns\n",
        "numeric_features = [\n",
        "    'follower_count',\n",
        "    'encoded_category_name',\n",
        "    'encoded_category_enum',\n",
        "    'following_count',\n",
        "    'is_business_account',\n",
        "    'is_private',\n",
        "    'is_verified',\n",
        "    'highlight_reel_count',\n",
        "    'has_clips',\n",
        "    'hide_like_and_view_counts',\n",
        "    'is_professional_account',\n",
        "    'should_show_category',\n",
        "    'should_show_public_contacts',\n",
        "    #'follower_following_ratio',\n",
        "    'is_business_account',\n",
        "    'is_private',\n",
        "    'is_verified',\n",
        "    'has_clips','hide_like_and_view_counts','is_professional_account'\n",
        "              , 'should_show_category','should_show_public_contacts'\n",
        "]\n",
        "X_train = train_profile_df_cleaned[numeric_features]\n",
        "\n",
        "X_train['y_train_encoded'] = y_train_encoded\n",
        "\n",
        "# Compute correlation\n",
        "correlation_with_target = X_train.corr()['y_train_encoded'].drop('y_train_encoded')\n",
        "\n",
        "# Print the correlations\n",
        "print(correlation_with_target)\n"
      ],
      "metadata": {
        "colab": {
          "base_uri": "https://localhost:8080/"
        },
        "id": "4Gr7MMfPfcXG",
        "outputId": "08a4b32a-c5d8-4bbd-b698-f4ef08683073"
      },
      "execution_count": 484,
      "outputs": [
        {
          "output_type": "stream",
          "name": "stdout",
          "text": [
            "follower_count                -0.034215\n",
            "encoded_category_name          0.191898\n",
            "encoded_category_enum          0.072809\n",
            "following_count               -0.056296\n",
            "is_business_account            0.106438\n",
            "is_private                    -0.022964\n",
            "is_verified                   -0.086006\n",
            "highlight_reel_count          -0.040866\n",
            "has_clips                     -0.007931\n",
            "hide_like_and_view_counts     -0.013018\n",
            "is_professional_account        0.032481\n",
            "should_show_category           0.000651\n",
            "should_show_public_contacts    0.053977\n",
            "is_business_account            0.106438\n",
            "is_private                    -0.022964\n",
            "is_verified                   -0.086006\n",
            "has_clips                     -0.007931\n",
            "hide_like_and_view_counts     -0.013018\n",
            "is_professional_account        0.032481\n",
            "should_show_category           0.000651\n",
            "should_show_public_contacts    0.053977\n",
            "Name: y_train_encoded, dtype: float64\n"
          ]
        },
        {
          "output_type": "stream",
          "name": "stderr",
          "text": [
            "<ipython-input-484-8c704703c451>:29: SettingWithCopyWarning: \n",
            "A value is trying to be set on a copy of a slice from a DataFrame.\n",
            "Try using .loc[row_indexer,col_indexer] = value instead\n",
            "\n",
            "See the caveats in the documentation: https://pandas.pydata.org/pandas-docs/stable/user_guide/indexing.html#returning-a-view-versus-a-copy\n",
            "  X_train['y_train_encoded'] = y_train_encoded\n"
          ]
        }
      ]
    },
    {
      "cell_type": "code",
      "execution_count": 485,
      "metadata": {
        "colab": {
          "base_uri": "https://localhost:8080/"
        },
        "id": "-65z3lm5-Mjq",
        "outputId": "5437de27-624b-4054-8db7-982957514e10"
      },
      "outputs": [
        {
          "output_type": "stream",
          "name": "stdout",
          "text": [
            "Shape after merging: (2741, 5703)\n",
            "               username  biography_tfidf_0  biography_tfidf_1  \\\n",
            "0            deparmedya                0.0                0.0   \n",
            "1            kafesfirin                0.0                0.0   \n",
            "2              vimerang                0.0                0.0   \n",
            "3     mustafa_yalcinn38                0.0                0.0   \n",
            "4  zorluenergysolutions                0.0                0.0   \n",
            "\n",
            "   biography_tfidf_2  biography_tfidf_3  biography_tfidf_4  biography_tfidf_5  \\\n",
            "0                0.0                0.0                0.0                0.0   \n",
            "1                0.0                0.0                0.0                0.0   \n",
            "2                0.0                0.0                0.0                0.0   \n",
            "3                0.0                0.0                0.0                0.0   \n",
            "4                0.0                0.0                0.0                0.0   \n",
            "\n",
            "   biography_tfidf_6  biography_tfidf_7  biography_tfidf_8  ...  \\\n",
            "0                0.0                0.0                0.0  ...   \n",
            "1                0.0                0.0                0.0  ...   \n",
            "2                0.0                0.0                0.0  ...   \n",
            "3                0.0                0.0                0.0  ...   \n",
            "4                0.0                0.0                0.0  ...   \n",
            "\n",
            "   caption_tfidf_4992  caption_tfidf_4993  caption_tfidf_4994  \\\n",
            "0            0.000000                 0.0            0.000000   \n",
            "1            0.000000                 0.0            0.000000   \n",
            "2            0.000000                 0.0            0.047151   \n",
            "3            0.043446                 0.0            0.000000   \n",
            "4            0.000000                 0.0            0.000000   \n",
            "\n",
            "   caption_tfidf_4995  caption_tfidf_4996  caption_tfidf_4997  \\\n",
            "0                 0.0            0.047905                 0.0   \n",
            "1                 0.0            0.000000                 0.0   \n",
            "2                 0.0            0.000000                 0.0   \n",
            "3                 0.0            0.000000                 0.0   \n",
            "4                 0.0            0.000000                 0.0   \n",
            "\n",
            "   caption_tfidf_4998  caption_tfidf_4999  encoded_category_enum  \\\n",
            "0                 0.0                 0.0                     15   \n",
            "1                 0.0                 0.0                     15   \n",
            "2                 0.0                 0.0                      3   \n",
            "3                 0.0                 0.0                     11   \n",
            "4                 0.0                 0.0                     15   \n",
            "\n",
            "   encoded_category_name  \n",
            "0                     10  \n",
            "1                     10  \n",
            "2                     10  \n",
            "3                     10  \n",
            "4                     10  \n",
            "\n",
            "[5 rows x 5703 columns]\n"
          ]
        }
      ],
      "source": [
        "# Merge the encoded categories with the combined TF-IDF DataFrame\n",
        "\n",
        "combined_tfidf_df = pd.merge(\n",
        "    combined_tfidf_df,\n",
        "    train_profile_df_cleaned[['username','encoded_category_enum','encoded_category_name']],\n",
        "    on='username',\n",
        "    how='left'\n",
        ")\n",
        "\n",
        "\n",
        "numerical_columns = ['username', 'follower_count', 'following_count']\n",
        "\n",
        "\n",
        "# Verify the result\n",
        "print(\"Shape after merging:\", combined_tfidf_df.shape)\n",
        "print(combined_tfidf_df.head())\n"
      ]
    },
    {
      "cell_type": "code",
      "source": [
        "combined_tfidf_df_test = pd.merge(\n",
        "    combined_tfidf_df_test,\n",
        "    test_profile_df_cleaned[['username','encoded_category_enum','encoded_category_name']],\n",
        "    on='username',\n",
        "    how='left'\n",
        ")"
      ],
      "metadata": {
        "id": "bI8WaX1s0iGe"
      },
      "execution_count": 486,
      "outputs": []
    },
    {
      "cell_type": "code",
      "execution_count": 487,
      "metadata": {
        "colab": {
          "base_uri": "https://localhost:8080/"
        },
        "id": "EZbapLWG8Nb3",
        "outputId": "4f2af12e-cf3a-4cc0-ea4f-809e20c03ab1"
      },
      "outputs": [
        {
          "output_type": "stream",
          "name": "stdout",
          "text": [
            "                      precision    recall  f1-score   support\n",
            "\n",
            "                 art       0.55      0.16      0.24        38\n",
            "       entertainment       0.30      0.34      0.32        59\n",
            "             fashion       0.60      0.75      0.67        55\n",
            "                food       0.75      0.94      0.83       114\n",
            "              gaming       0.00      0.00      0.00         5\n",
            "health and lifestyle       0.52      0.71      0.60        96\n",
            "    mom and children       0.00      0.00      0.00        34\n",
            "              sports       1.00      0.15      0.26        27\n",
            "                tech       0.62      0.76      0.68        59\n",
            "              travel       0.69      0.58      0.63        62\n",
            "\n",
            "            accuracy                           0.60       549\n",
            "           macro avg       0.50      0.44      0.42       549\n",
            "        weighted avg       0.57      0.60      0.55       549\n",
            "\n",
            "                    Feature  Importance\n",
            "3386     caption_tfidf_2686    0.010909\n",
            "3396     caption_tfidf_2696    0.005785\n",
            "3389     caption_tfidf_2689    0.005430\n",
            "5701  encoded_category_name    0.004884\n",
            "4728     caption_tfidf_4028    0.003538\n",
            "1251      caption_tfidf_551    0.003103\n",
            "4264     caption_tfidf_3564    0.003067\n",
            "4761     caption_tfidf_4061    0.002945\n",
            "3393     caption_tfidf_2693    0.002913\n",
            "1282      caption_tfidf_582    0.002888\n",
            "739        caption_tfidf_39    0.002621\n",
            "2216     caption_tfidf_1516    0.002561\n",
            "3394     caption_tfidf_2694    0.002533\n",
            "2023     caption_tfidf_1323    0.002492\n",
            "5700  encoded_category_enum    0.002460\n",
            "3397     caption_tfidf_2697    0.002458\n",
            "4751     caption_tfidf_4051    0.002441\n",
            "1661      caption_tfidf_961    0.002401\n",
            "4355     caption_tfidf_3655    0.002393\n",
            "3777     caption_tfidf_3077    0.002385\n",
            "4722     caption_tfidf_4022    0.002369\n",
            "4726     caption_tfidf_4026    0.002368\n",
            "5696     caption_tfidf_4996    0.002333\n",
            "4262     caption_tfidf_3562    0.002239\n",
            "4716     caption_tfidf_4016    0.002022\n",
            "3224     caption_tfidf_2524    0.002000\n",
            "1303      caption_tfidf_603    0.001993\n",
            "2703     caption_tfidf_2003    0.001961\n",
            "4752     caption_tfidf_4052    0.001872\n",
            "3819     caption_tfidf_3119    0.001864\n"
          ]
        },
        {
          "output_type": "stream",
          "name": "stderr",
          "text": [
            "/usr/local/lib/python3.10/dist-packages/sklearn/metrics/_classification.py:1565: UndefinedMetricWarning: Precision is ill-defined and being set to 0.0 in labels with no predicted samples. Use `zero_division` parameter to control this behavior.\n",
            "  _warn_prf(average, modifier, f\"{metric.capitalize()} is\", len(result))\n",
            "/usr/local/lib/python3.10/dist-packages/sklearn/metrics/_classification.py:1565: UndefinedMetricWarning: Precision is ill-defined and being set to 0.0 in labels with no predicted samples. Use `zero_division` parameter to control this behavior.\n",
            "  _warn_prf(average, modifier, f\"{metric.capitalize()} is\", len(result))\n",
            "/usr/local/lib/python3.10/dist-packages/sklearn/metrics/_classification.py:1565: UndefinedMetricWarning: Precision is ill-defined and being set to 0.0 in labels with no predicted samples. Use `zero_division` parameter to control this behavior.\n",
            "  _warn_prf(average, modifier, f\"{metric.capitalize()} is\", len(result))\n"
          ]
        }
      ],
      "source": [
        "from sklearn.ensemble import RandomForestClassifier\n",
        "from sklearn.metrics import classification_report\n",
        "from sklearn.model_selection import train_test_split\n",
        "\n",
        "# Define features and target\n",
        "X = combined_tfidf_df.drop(columns=['username'])\n",
        "#X = combined_tfidf_df\n",
        "X = X.fillna(0)\n",
        "y = y_train_ilk # Replace with your target column\n",
        "\n",
        "# Train-test split\n",
        "X_train, X_val, y_train, y_val = train_test_split(X, y, test_size=0.2, random_state=42)\n",
        "\n",
        "# Train a Random Forest Classifier\n",
        "clf = RandomForestClassifier(random_state=42)\n",
        "clf.fit(X_train, y_train)\n",
        "\n",
        "# Evaluate the model\n",
        "y_pred = clf.predict(X_val)\n",
        "print(classification_report(y_val, y_pred))\n",
        "\n",
        "# Feature Importance\n",
        "importances = clf.feature_importances_\n",
        "importance_df = pd.DataFrame({'Feature': X.columns, 'Importance': importances})\n",
        "importance_df = importance_df.sort_values(by='Importance', ascending=False)\n",
        "print(importance_df.head(30))\n"
      ]
    },
    {
      "cell_type": "code",
      "execution_count": 488,
      "metadata": {
        "id": "rdHIvFrSCMZj",
        "colab": {
          "base_uri": "https://localhost:8080/",
          "height": 80
        },
        "outputId": "586017c5-8c61-46e4-ae48-3dd6d4f537a4"
      },
      "outputs": [
        {
          "output_type": "execute_result",
          "data": {
            "text/plain": [
              "MultinomialNB()"
            ],
            "text/html": [
              "<style>#sk-container-id-2 {\n",
              "  /* Definition of color scheme common for light and dark mode */\n",
              "  --sklearn-color-text: #000;\n",
              "  --sklearn-color-text-muted: #666;\n",
              "  --sklearn-color-line: gray;\n",
              "  /* Definition of color scheme for unfitted estimators */\n",
              "  --sklearn-color-unfitted-level-0: #fff5e6;\n",
              "  --sklearn-color-unfitted-level-1: #f6e4d2;\n",
              "  --sklearn-color-unfitted-level-2: #ffe0b3;\n",
              "  --sklearn-color-unfitted-level-3: chocolate;\n",
              "  /* Definition of color scheme for fitted estimators */\n",
              "  --sklearn-color-fitted-level-0: #f0f8ff;\n",
              "  --sklearn-color-fitted-level-1: #d4ebff;\n",
              "  --sklearn-color-fitted-level-2: #b3dbfd;\n",
              "  --sklearn-color-fitted-level-3: cornflowerblue;\n",
              "\n",
              "  /* Specific color for light theme */\n",
              "  --sklearn-color-text-on-default-background: var(--sg-text-color, var(--theme-code-foreground, var(--jp-content-font-color1, black)));\n",
              "  --sklearn-color-background: var(--sg-background-color, var(--theme-background, var(--jp-layout-color0, white)));\n",
              "  --sklearn-color-border-box: var(--sg-text-color, var(--theme-code-foreground, var(--jp-content-font-color1, black)));\n",
              "  --sklearn-color-icon: #696969;\n",
              "\n",
              "  @media (prefers-color-scheme: dark) {\n",
              "    /* Redefinition of color scheme for dark theme */\n",
              "    --sklearn-color-text-on-default-background: var(--sg-text-color, var(--theme-code-foreground, var(--jp-content-font-color1, white)));\n",
              "    --sklearn-color-background: var(--sg-background-color, var(--theme-background, var(--jp-layout-color0, #111)));\n",
              "    --sklearn-color-border-box: var(--sg-text-color, var(--theme-code-foreground, var(--jp-content-font-color1, white)));\n",
              "    --sklearn-color-icon: #878787;\n",
              "  }\n",
              "}\n",
              "\n",
              "#sk-container-id-2 {\n",
              "  color: var(--sklearn-color-text);\n",
              "}\n",
              "\n",
              "#sk-container-id-2 pre {\n",
              "  padding: 0;\n",
              "}\n",
              "\n",
              "#sk-container-id-2 input.sk-hidden--visually {\n",
              "  border: 0;\n",
              "  clip: rect(1px 1px 1px 1px);\n",
              "  clip: rect(1px, 1px, 1px, 1px);\n",
              "  height: 1px;\n",
              "  margin: -1px;\n",
              "  overflow: hidden;\n",
              "  padding: 0;\n",
              "  position: absolute;\n",
              "  width: 1px;\n",
              "}\n",
              "\n",
              "#sk-container-id-2 div.sk-dashed-wrapped {\n",
              "  border: 1px dashed var(--sklearn-color-line);\n",
              "  margin: 0 0.4em 0.5em 0.4em;\n",
              "  box-sizing: border-box;\n",
              "  padding-bottom: 0.4em;\n",
              "  background-color: var(--sklearn-color-background);\n",
              "}\n",
              "\n",
              "#sk-container-id-2 div.sk-container {\n",
              "  /* jupyter's `normalize.less` sets `[hidden] { display: none; }`\n",
              "     but bootstrap.min.css set `[hidden] { display: none !important; }`\n",
              "     so we also need the `!important` here to be able to override the\n",
              "     default hidden behavior on the sphinx rendered scikit-learn.org.\n",
              "     See: https://github.com/scikit-learn/scikit-learn/issues/21755 */\n",
              "  display: inline-block !important;\n",
              "  position: relative;\n",
              "}\n",
              "\n",
              "#sk-container-id-2 div.sk-text-repr-fallback {\n",
              "  display: none;\n",
              "}\n",
              "\n",
              "div.sk-parallel-item,\n",
              "div.sk-serial,\n",
              "div.sk-item {\n",
              "  /* draw centered vertical line to link estimators */\n",
              "  background-image: linear-gradient(var(--sklearn-color-text-on-default-background), var(--sklearn-color-text-on-default-background));\n",
              "  background-size: 2px 100%;\n",
              "  background-repeat: no-repeat;\n",
              "  background-position: center center;\n",
              "}\n",
              "\n",
              "/* Parallel-specific style estimator block */\n",
              "\n",
              "#sk-container-id-2 div.sk-parallel-item::after {\n",
              "  content: \"\";\n",
              "  width: 100%;\n",
              "  border-bottom: 2px solid var(--sklearn-color-text-on-default-background);\n",
              "  flex-grow: 1;\n",
              "}\n",
              "\n",
              "#sk-container-id-2 div.sk-parallel {\n",
              "  display: flex;\n",
              "  align-items: stretch;\n",
              "  justify-content: center;\n",
              "  background-color: var(--sklearn-color-background);\n",
              "  position: relative;\n",
              "}\n",
              "\n",
              "#sk-container-id-2 div.sk-parallel-item {\n",
              "  display: flex;\n",
              "  flex-direction: column;\n",
              "}\n",
              "\n",
              "#sk-container-id-2 div.sk-parallel-item:first-child::after {\n",
              "  align-self: flex-end;\n",
              "  width: 50%;\n",
              "}\n",
              "\n",
              "#sk-container-id-2 div.sk-parallel-item:last-child::after {\n",
              "  align-self: flex-start;\n",
              "  width: 50%;\n",
              "}\n",
              "\n",
              "#sk-container-id-2 div.sk-parallel-item:only-child::after {\n",
              "  width: 0;\n",
              "}\n",
              "\n",
              "/* Serial-specific style estimator block */\n",
              "\n",
              "#sk-container-id-2 div.sk-serial {\n",
              "  display: flex;\n",
              "  flex-direction: column;\n",
              "  align-items: center;\n",
              "  background-color: var(--sklearn-color-background);\n",
              "  padding-right: 1em;\n",
              "  padding-left: 1em;\n",
              "}\n",
              "\n",
              "\n",
              "/* Toggleable style: style used for estimator/Pipeline/ColumnTransformer box that is\n",
              "clickable and can be expanded/collapsed.\n",
              "- Pipeline and ColumnTransformer use this feature and define the default style\n",
              "- Estimators will overwrite some part of the style using the `sk-estimator` class\n",
              "*/\n",
              "\n",
              "/* Pipeline and ColumnTransformer style (default) */\n",
              "\n",
              "#sk-container-id-2 div.sk-toggleable {\n",
              "  /* Default theme specific background. It is overwritten whether we have a\n",
              "  specific estimator or a Pipeline/ColumnTransformer */\n",
              "  background-color: var(--sklearn-color-background);\n",
              "}\n",
              "\n",
              "/* Toggleable label */\n",
              "#sk-container-id-2 label.sk-toggleable__label {\n",
              "  cursor: pointer;\n",
              "  display: flex;\n",
              "  width: 100%;\n",
              "  margin-bottom: 0;\n",
              "  padding: 0.5em;\n",
              "  box-sizing: border-box;\n",
              "  text-align: center;\n",
              "  align-items: start;\n",
              "  justify-content: space-between;\n",
              "  gap: 0.5em;\n",
              "}\n",
              "\n",
              "#sk-container-id-2 label.sk-toggleable__label .caption {\n",
              "  font-size: 0.6rem;\n",
              "  font-weight: lighter;\n",
              "  color: var(--sklearn-color-text-muted);\n",
              "}\n",
              "\n",
              "#sk-container-id-2 label.sk-toggleable__label-arrow:before {\n",
              "  /* Arrow on the left of the label */\n",
              "  content: \"▸\";\n",
              "  float: left;\n",
              "  margin-right: 0.25em;\n",
              "  color: var(--sklearn-color-icon);\n",
              "}\n",
              "\n",
              "#sk-container-id-2 label.sk-toggleable__label-arrow:hover:before {\n",
              "  color: var(--sklearn-color-text);\n",
              "}\n",
              "\n",
              "/* Toggleable content - dropdown */\n",
              "\n",
              "#sk-container-id-2 div.sk-toggleable__content {\n",
              "  max-height: 0;\n",
              "  max-width: 0;\n",
              "  overflow: hidden;\n",
              "  text-align: left;\n",
              "  /* unfitted */\n",
              "  background-color: var(--sklearn-color-unfitted-level-0);\n",
              "}\n",
              "\n",
              "#sk-container-id-2 div.sk-toggleable__content.fitted {\n",
              "  /* fitted */\n",
              "  background-color: var(--sklearn-color-fitted-level-0);\n",
              "}\n",
              "\n",
              "#sk-container-id-2 div.sk-toggleable__content pre {\n",
              "  margin: 0.2em;\n",
              "  border-radius: 0.25em;\n",
              "  color: var(--sklearn-color-text);\n",
              "  /* unfitted */\n",
              "  background-color: var(--sklearn-color-unfitted-level-0);\n",
              "}\n",
              "\n",
              "#sk-container-id-2 div.sk-toggleable__content.fitted pre {\n",
              "  /* unfitted */\n",
              "  background-color: var(--sklearn-color-fitted-level-0);\n",
              "}\n",
              "\n",
              "#sk-container-id-2 input.sk-toggleable__control:checked~div.sk-toggleable__content {\n",
              "  /* Expand drop-down */\n",
              "  max-height: 200px;\n",
              "  max-width: 100%;\n",
              "  overflow: auto;\n",
              "}\n",
              "\n",
              "#sk-container-id-2 input.sk-toggleable__control:checked~label.sk-toggleable__label-arrow:before {\n",
              "  content: \"▾\";\n",
              "}\n",
              "\n",
              "/* Pipeline/ColumnTransformer-specific style */\n",
              "\n",
              "#sk-container-id-2 div.sk-label input.sk-toggleable__control:checked~label.sk-toggleable__label {\n",
              "  color: var(--sklearn-color-text);\n",
              "  background-color: var(--sklearn-color-unfitted-level-2);\n",
              "}\n",
              "\n",
              "#sk-container-id-2 div.sk-label.fitted input.sk-toggleable__control:checked~label.sk-toggleable__label {\n",
              "  background-color: var(--sklearn-color-fitted-level-2);\n",
              "}\n",
              "\n",
              "/* Estimator-specific style */\n",
              "\n",
              "/* Colorize estimator box */\n",
              "#sk-container-id-2 div.sk-estimator input.sk-toggleable__control:checked~label.sk-toggleable__label {\n",
              "  /* unfitted */\n",
              "  background-color: var(--sklearn-color-unfitted-level-2);\n",
              "}\n",
              "\n",
              "#sk-container-id-2 div.sk-estimator.fitted input.sk-toggleable__control:checked~label.sk-toggleable__label {\n",
              "  /* fitted */\n",
              "  background-color: var(--sklearn-color-fitted-level-2);\n",
              "}\n",
              "\n",
              "#sk-container-id-2 div.sk-label label.sk-toggleable__label,\n",
              "#sk-container-id-2 div.sk-label label {\n",
              "  /* The background is the default theme color */\n",
              "  color: var(--sklearn-color-text-on-default-background);\n",
              "}\n",
              "\n",
              "/* On hover, darken the color of the background */\n",
              "#sk-container-id-2 div.sk-label:hover label.sk-toggleable__label {\n",
              "  color: var(--sklearn-color-text);\n",
              "  background-color: var(--sklearn-color-unfitted-level-2);\n",
              "}\n",
              "\n",
              "/* Label box, darken color on hover, fitted */\n",
              "#sk-container-id-2 div.sk-label.fitted:hover label.sk-toggleable__label.fitted {\n",
              "  color: var(--sklearn-color-text);\n",
              "  background-color: var(--sklearn-color-fitted-level-2);\n",
              "}\n",
              "\n",
              "/* Estimator label */\n",
              "\n",
              "#sk-container-id-2 div.sk-label label {\n",
              "  font-family: monospace;\n",
              "  font-weight: bold;\n",
              "  display: inline-block;\n",
              "  line-height: 1.2em;\n",
              "}\n",
              "\n",
              "#sk-container-id-2 div.sk-label-container {\n",
              "  text-align: center;\n",
              "}\n",
              "\n",
              "/* Estimator-specific */\n",
              "#sk-container-id-2 div.sk-estimator {\n",
              "  font-family: monospace;\n",
              "  border: 1px dotted var(--sklearn-color-border-box);\n",
              "  border-radius: 0.25em;\n",
              "  box-sizing: border-box;\n",
              "  margin-bottom: 0.5em;\n",
              "  /* unfitted */\n",
              "  background-color: var(--sklearn-color-unfitted-level-0);\n",
              "}\n",
              "\n",
              "#sk-container-id-2 div.sk-estimator.fitted {\n",
              "  /* fitted */\n",
              "  background-color: var(--sklearn-color-fitted-level-0);\n",
              "}\n",
              "\n",
              "/* on hover */\n",
              "#sk-container-id-2 div.sk-estimator:hover {\n",
              "  /* unfitted */\n",
              "  background-color: var(--sklearn-color-unfitted-level-2);\n",
              "}\n",
              "\n",
              "#sk-container-id-2 div.sk-estimator.fitted:hover {\n",
              "  /* fitted */\n",
              "  background-color: var(--sklearn-color-fitted-level-2);\n",
              "}\n",
              "\n",
              "/* Specification for estimator info (e.g. \"i\" and \"?\") */\n",
              "\n",
              "/* Common style for \"i\" and \"?\" */\n",
              "\n",
              ".sk-estimator-doc-link,\n",
              "a:link.sk-estimator-doc-link,\n",
              "a:visited.sk-estimator-doc-link {\n",
              "  float: right;\n",
              "  font-size: smaller;\n",
              "  line-height: 1em;\n",
              "  font-family: monospace;\n",
              "  background-color: var(--sklearn-color-background);\n",
              "  border-radius: 1em;\n",
              "  height: 1em;\n",
              "  width: 1em;\n",
              "  text-decoration: none !important;\n",
              "  margin-left: 0.5em;\n",
              "  text-align: center;\n",
              "  /* unfitted */\n",
              "  border: var(--sklearn-color-unfitted-level-1) 1pt solid;\n",
              "  color: var(--sklearn-color-unfitted-level-1);\n",
              "}\n",
              "\n",
              ".sk-estimator-doc-link.fitted,\n",
              "a:link.sk-estimator-doc-link.fitted,\n",
              "a:visited.sk-estimator-doc-link.fitted {\n",
              "  /* fitted */\n",
              "  border: var(--sklearn-color-fitted-level-1) 1pt solid;\n",
              "  color: var(--sklearn-color-fitted-level-1);\n",
              "}\n",
              "\n",
              "/* On hover */\n",
              "div.sk-estimator:hover .sk-estimator-doc-link:hover,\n",
              ".sk-estimator-doc-link:hover,\n",
              "div.sk-label-container:hover .sk-estimator-doc-link:hover,\n",
              ".sk-estimator-doc-link:hover {\n",
              "  /* unfitted */\n",
              "  background-color: var(--sklearn-color-unfitted-level-3);\n",
              "  color: var(--sklearn-color-background);\n",
              "  text-decoration: none;\n",
              "}\n",
              "\n",
              "div.sk-estimator.fitted:hover .sk-estimator-doc-link.fitted:hover,\n",
              ".sk-estimator-doc-link.fitted:hover,\n",
              "div.sk-label-container:hover .sk-estimator-doc-link.fitted:hover,\n",
              ".sk-estimator-doc-link.fitted:hover {\n",
              "  /* fitted */\n",
              "  background-color: var(--sklearn-color-fitted-level-3);\n",
              "  color: var(--sklearn-color-background);\n",
              "  text-decoration: none;\n",
              "}\n",
              "\n",
              "/* Span, style for the box shown on hovering the info icon */\n",
              ".sk-estimator-doc-link span {\n",
              "  display: none;\n",
              "  z-index: 9999;\n",
              "  position: relative;\n",
              "  font-weight: normal;\n",
              "  right: .2ex;\n",
              "  padding: .5ex;\n",
              "  margin: .5ex;\n",
              "  width: min-content;\n",
              "  min-width: 20ex;\n",
              "  max-width: 50ex;\n",
              "  color: var(--sklearn-color-text);\n",
              "  box-shadow: 2pt 2pt 4pt #999;\n",
              "  /* unfitted */\n",
              "  background: var(--sklearn-color-unfitted-level-0);\n",
              "  border: .5pt solid var(--sklearn-color-unfitted-level-3);\n",
              "}\n",
              "\n",
              ".sk-estimator-doc-link.fitted span {\n",
              "  /* fitted */\n",
              "  background: var(--sklearn-color-fitted-level-0);\n",
              "  border: var(--sklearn-color-fitted-level-3);\n",
              "}\n",
              "\n",
              ".sk-estimator-doc-link:hover span {\n",
              "  display: block;\n",
              "}\n",
              "\n",
              "/* \"?\"-specific style due to the `<a>` HTML tag */\n",
              "\n",
              "#sk-container-id-2 a.estimator_doc_link {\n",
              "  float: right;\n",
              "  font-size: 1rem;\n",
              "  line-height: 1em;\n",
              "  font-family: monospace;\n",
              "  background-color: var(--sklearn-color-background);\n",
              "  border-radius: 1rem;\n",
              "  height: 1rem;\n",
              "  width: 1rem;\n",
              "  text-decoration: none;\n",
              "  /* unfitted */\n",
              "  color: var(--sklearn-color-unfitted-level-1);\n",
              "  border: var(--sklearn-color-unfitted-level-1) 1pt solid;\n",
              "}\n",
              "\n",
              "#sk-container-id-2 a.estimator_doc_link.fitted {\n",
              "  /* fitted */\n",
              "  border: var(--sklearn-color-fitted-level-1) 1pt solid;\n",
              "  color: var(--sklearn-color-fitted-level-1);\n",
              "}\n",
              "\n",
              "/* On hover */\n",
              "#sk-container-id-2 a.estimator_doc_link:hover {\n",
              "  /* unfitted */\n",
              "  background-color: var(--sklearn-color-unfitted-level-3);\n",
              "  color: var(--sklearn-color-background);\n",
              "  text-decoration: none;\n",
              "}\n",
              "\n",
              "#sk-container-id-2 a.estimator_doc_link.fitted:hover {\n",
              "  /* fitted */\n",
              "  background-color: var(--sklearn-color-fitted-level-3);\n",
              "}\n",
              "</style><div id=\"sk-container-id-2\" class=\"sk-top-container\"><div class=\"sk-text-repr-fallback\"><pre>MultinomialNB()</pre><b>In a Jupyter environment, please rerun this cell to show the HTML representation or trust the notebook. <br />On GitHub, the HTML representation is unable to render, please try loading this page with nbviewer.org.</b></div><div class=\"sk-container\" hidden><div class=\"sk-item\"><div class=\"sk-estimator fitted sk-toggleable\"><input class=\"sk-toggleable__control sk-hidden--visually\" id=\"sk-estimator-id-2\" type=\"checkbox\" checked><label for=\"sk-estimator-id-2\" class=\"sk-toggleable__label fitted sk-toggleable__label-arrow\"><div><div>MultinomialNB</div></div><div><a class=\"sk-estimator-doc-link fitted\" rel=\"noreferrer\" target=\"_blank\" href=\"https://scikit-learn.org/1.6/modules/generated/sklearn.naive_bayes.MultinomialNB.html\">?<span>Documentation for MultinomialNB</span></a><span class=\"sk-estimator-doc-link fitted\">i<span>Fitted</span></span></div></label><div class=\"sk-toggleable__content fitted\"><pre>MultinomialNB()</pre></div> </div></div></div></div>"
            ]
          },
          "metadata": {},
          "execution_count": 488
        }
      ],
      "source": [
        "\n",
        "from sklearn.naive_bayes import MultinomialNB\n",
        "from sklearn.metrics import accuracy_score, classification_report\n",
        "from sklearn.preprocessing import MinMaxScaler\n",
        "\n",
        "scaler_minmax = MinMaxScaler(feature_range=(0, 1))  # Shift values to [0, 1]\n",
        "X_train_nonnegative = scaler_minmax.fit_transform(X_train)\n",
        "X_val_nonnegative = scaler_minmax.transform(X_val)\n",
        "\n",
        "\n",
        "model = MultinomialNB()\n",
        "model.fit(X_train_nonnegative, y_train)"
      ]
    },
    {
      "cell_type": "code",
      "execution_count": 489,
      "metadata": {
        "id": "lr3u9j1vIGoi",
        "colab": {
          "base_uri": "https://localhost:8080/"
        },
        "outputId": "ae375fe4-174b-4b35-9600-c38a69ca56b3"
      },
      "outputs": [
        {
          "output_type": "stream",
          "name": "stdout",
          "text": [
            "Best alpha: 0.4\n"
          ]
        }
      ],
      "source": [
        "from sklearn.model_selection import GridSearchCV\n",
        "from sklearn.naive_bayes import MultinomialNB\n",
        "\n",
        "# Define parameter grid\n",
        "param_grid = {'alpha': [0.4, 0.7, 0.5, 1.5, 2.0]}\n",
        "\n",
        "# Set up GridSearchCV\n",
        "grid_search = GridSearchCV(\n",
        "    MultinomialNB(),\n",
        "    param_grid,\n",
        "    scoring='accuracy',  # Use appropriate metric\n",
        "    cv=5                 # 5-fold cross-validation\n",
        ")\n",
        "\n",
        "# Perform grid search on training data\n",
        "grid_search.fit(X_train_nonnegative, y_train)\n",
        "\n",
        "# Best model and parameter\n",
        "best_model = grid_search.best_estimator_\n",
        "best_alpha = grid_search.best_params_['alpha']\n",
        "\n",
        "print(f\"Best alpha: {best_alpha}\")\n"
      ]
    },
    {
      "cell_type": "code",
      "execution_count": 490,
      "metadata": {
        "id": "o9ufQQ6TEX0Q",
        "colab": {
          "base_uri": "https://localhost:8080/"
        },
        "outputId": "46f0aa75-e027-42a1-8b43-92a2cebfa853"
      },
      "outputs": [
        {
          "output_type": "stream",
          "name": "stdout",
          "text": [
            "Accuracy: 0.8252737226277372\n",
            "\n",
            "Classification Report:\n",
            "                      precision    recall  f1-score   support\n",
            "\n",
            "                 art       0.81      0.78      0.80       153\n",
            "       entertainment       0.80      0.78      0.79       264\n",
            "             fashion       0.77      0.90      0.83       244\n",
            "                food       0.93      0.87      0.90       397\n",
            "              gaming       1.00      0.75      0.86         8\n",
            "health and lifestyle       0.82      0.74      0.78       406\n",
            "    mom and children       0.92      0.84      0.88       115\n",
            "              sports       0.92      0.84      0.88        86\n",
            "                tech       0.77      0.90      0.83       287\n",
            "              travel       0.77      0.79      0.78       232\n",
            "\n",
            "            accuracy                           0.83      2192\n",
            "           macro avg       0.85      0.82      0.83      2192\n",
            "        weighted avg       0.83      0.83      0.83      2192\n",
            "\n"
          ]
        }
      ],
      "source": [
        "#@title Train Data\n",
        "y_train_pred = best_model.predict(X_train_nonnegative)\n",
        "\n",
        "print(\"Accuracy:\", accuracy_score(y_train, y_train_pred))\n",
        "print(\"\\nClassification Report:\")\n",
        "print(classification_report(y_train, y_train_pred, zero_division=0))"
      ]
    },
    {
      "cell_type": "code",
      "execution_count": 491,
      "metadata": {
        "id": "DP6VlJznAgvZ",
        "colab": {
          "base_uri": "https://localhost:8080/"
        },
        "outputId": "1e7ec46e-fd7c-44b8-856c-820dbae88dec"
      },
      "outputs": [
        {
          "output_type": "stream",
          "name": "stdout",
          "text": [
            "Accuracy: 0.6265938069216758\n",
            "\n",
            "Classification Report:\n",
            "                      precision    recall  f1-score   support\n",
            "\n",
            "                 art       0.31      0.29      0.30        38\n",
            "       entertainment       0.38      0.46      0.42        59\n",
            "             fashion       0.62      0.78      0.69        55\n",
            "                food       0.82      0.77      0.80       114\n",
            "              gaming       0.00      0.00      0.00         5\n",
            "health and lifestyle       0.71      0.58      0.64        96\n",
            "    mom and children       0.72      0.38      0.50        34\n",
            "              sports       0.79      0.56      0.65        27\n",
            "                tech       0.59      0.83      0.69        59\n",
            "              travel       0.62      0.68      0.65        62\n",
            "\n",
            "            accuracy                           0.63       549\n",
            "           macro avg       0.56      0.53      0.53       549\n",
            "        weighted avg       0.64      0.63      0.62       549\n",
            "\n"
          ]
        }
      ],
      "source": [
        "#@title Validation Data\n",
        "y_val_pred = best_model.predict(X_val_nonnegative)\n",
        "\n",
        "print(\"Accuracy:\", accuracy_score(y_val, y_val_pred))\n",
        "print(\"\\nClassification Report:\")\n",
        "print(classification_report(y_val, y_val_pred, zero_division=0))"
      ]
    },
    {
      "cell_type": "code",
      "execution_count": 492,
      "metadata": {
        "colab": {
          "base_uri": "https://localhost:8080/"
        },
        "id": "AU6aALFaCMkd",
        "outputId": "01145340-e908-4081-b946-985766e7f8fa"
      },
      "outputs": [
        {
          "output_type": "stream",
          "name": "stdout",
          "text": [
            "livapastanesi\n",
            "barisgross\n",
            "tusasshop\n",
            "etolyadigital\n",
            "tugrulonur\n",
            "*****\n",
            "1000\n"
          ]
        }
      ],
      "source": [
        "#@title Test Data\n",
        "\n",
        "\n",
        "# let's take a look at the first 5 lines of the file\n",
        "test_data_path = \"/content/drive/MyDrive/CS412Data/test-classification-round3.dat\"\n",
        "!head -n 5 \"$test_data_path\"\n",
        "\n",
        "print(\"*****\")\n",
        "\n",
        "test_unames = []\n",
        "with open(test_data_path, \"rt\") as fh:\n",
        "  for line in fh:\n",
        "    test_unames.append(line.strip())\n",
        "\n",
        "print(len(test_unames))\n"
      ]
    },
    {
      "cell_type": "code",
      "source": [
        "filtered_rows = []\n",
        "\n",
        "# Iterate through test usernames and try to find them in the test or train DataFrame\n",
        "missing_usernames = []\n",
        "for uname in test_unames:\n",
        "    try:\n",
        "        # First, try to get the row from the test DataFrame\n",
        "        row = combined_tfidf_df_test.loc[combined_tfidf_df_test['username'] == uname]\n",
        "        if not row.empty:\n",
        "            filtered_rows.append(row)\n",
        "            continue  # Found in test, no need to check train\n",
        "\n",
        "        # If not found in test, try train\n",
        "        row = combined_tfidf_df.loc[combined_tfidf_df['username'] == uname]\n",
        "        if not row.empty:\n",
        "            filtered_rows.append(row)\n",
        "        else:\n",
        "            # If not found in either, log the username\n",
        "            missing_usernames.append(uname)\n",
        "    except Exception as e:\n",
        "        print(f\"Error processing username '{uname}': {e}\")\n",
        "\n",
        "# Combine all collected rows into a single DataFrame\n",
        "if filtered_rows:\n",
        "    filtered_test_df = pd.concat(filtered_rows).reset_index(drop=True)\n",
        "else:\n",
        "    filtered_test_df = pd.DataFrame()  # Empty DataFrame if no rows were collected\n",
        "\n",
        "print(f\"Filtered DataFrame shape: {filtered_test_df.shape}\")\n",
        "\n",
        "# Log missing usernames\n",
        "if missing_usernames:\n",
        "    print(f\"Usernames not found in either test or train: {len(missing_usernames)}\")\n",
        "    print(missing_usernames)\n",
        "\n",
        "# Extract features for prediction\n",
        "if not filtered_test_df.empty:\n",
        "    x_test_filtered = filtered_test_df.drop(columns=['username'], errors='ignore')  # Drop username column\n",
        "    test_pred_filtered = model.predict(x_test_filtered)\n",
        "\n",
        "    # Create the output in the required format\n",
        "    output_filtered = dict(zip(filtered_test_df['username'], test_pred_filtered))\n",
        "\n",
        "    # Save the output to a JSON file\n",
        "    output_path = \"/content/drive/MyDrive/CS412Data/abc_filtered_test_predictions.json\"\n",
        "    with open(output_path, \"w\") as json_file:\n",
        "        json.dump(output_filtered, json_file, indent=4)\n",
        "\n",
        "    print(f\"Filtered predictions saved to {output_path}.\")\n",
        "else:\n",
        "    print(\"No data available for prediction.\")"
      ],
      "metadata": {
        "colab": {
          "base_uri": "https://localhost:8080/"
        },
        "id": "lTopLy5W8TYv",
        "outputId": "6bd12195-1706-4027-e6e7-8ccef98e15f6"
      },
      "execution_count": 524,
      "outputs": [
        {
          "output_type": "stream",
          "name": "stdout",
          "text": [
            "Filtered DataFrame shape: (1000, 5703)\n",
            "Filtered predictions saved to /content/drive/MyDrive/CS412Data/abc_filtered_test_predictions.json.\n"
          ]
        },
        {
          "output_type": "stream",
          "name": "stderr",
          "text": [
            "/usr/local/lib/python3.10/dist-packages/sklearn/utils/validation.py:2732: UserWarning: X has feature names, but MultinomialNB was fitted without feature names\n",
            "  warnings.warn(\n"
          ]
        }
      ]
    },
    {
      "cell_type": "code",
      "execution_count": 493,
      "metadata": {
        "id": "gUsUQtpMKTse",
        "colab": {
          "base_uri": "https://localhost:8080/"
        },
        "outputId": "1aac4bd6-6eef-428d-f940-ac950a668ea7"
      },
      "outputs": [
        {
          "output_type": "stream",
          "name": "stderr",
          "text": [
            "/usr/local/lib/python3.10/dist-packages/sklearn/utils/validation.py:2732: UserWarning: X has feature names, but MultinomialNB was fitted without feature names\n",
            "  warnings.warn(\n"
          ]
        }
      ],
      "source": [
        "test_Data = combined_tfidf_df_test.drop(columns=['username'])\n",
        "test_pred = best_model.predict(test_Data)\n",
        "\n",
        "output = dict()\n",
        "for index, uname in enumerate(combined_tfidf_df_test['username']):\n",
        "  output[uname] = test_pred[index]"
      ]
    },
    {
      "cell_type": "code",
      "execution_count": 494,
      "metadata": {
        "id": "W-NJSnyxIrw4",
        "colab": {
          "base_uri": "https://localhost:8080/"
        },
        "outputId": "caa5c2c0-c084-4d08-cc48-2f1f357fb4f3"
      },
      "outputs": [
        {
          "output_type": "stream",
          "name": "stdout",
          "text": [
            "Output saved to /content/drive/My Drive/CS412Data/output_round3.json\n"
          ]
        }
      ],
      "source": [
        "\n",
        "# Define the file path within your Google Drive\n",
        "file_path = \"/content/drive/My Drive/CS412Data/output_round3.json\"\n",
        "\n",
        "# Save the JSON output\n",
        "with open(file_path, \"w\", encoding=\"utf-8\") as of:\n",
        "    json.dump(output, of, indent=4, ensure_ascii=False)\n",
        "\n",
        "print(f\"Output saved to {file_path}\")"
      ]
    },
    {
      "cell_type": "markdown",
      "source": [
        "## LIKE COUNT PREDICTION"
      ],
      "metadata": {
        "id": "JbQ_Oj06EYzf"
      }
    },
    {
      "cell_type": "markdown",
      "source": [
        "#### Parameter Analysis"
      ],
      "metadata": {
        "id": "O6b5dmBPFECn"
      }
    },
    {
      "cell_type": "code",
      "source": [
        "# Define final feature columns\n",
        "#media_type_columns = ['media_type_VIDEO', 'media_type_IMAGE','media_type_IMAGE' ]\n",
        "\n",
        "final_features = (\n",
        "    numerical_columns  + boolean_columns +\n",
        "    [ 'hour', 'day', 'weekday','predicted_like_count']\n",
        ")\n",
        "\n",
        "# Prepare feature matrix (X) and target (y)\n",
        "X = train_posts_df_cleaned.drop(columns = ['like_count', 'caption','username', 'id'])\n",
        "y = train_posts_df_cleaned['like_count']\n",
        "\n",
        "# Handle missing values (if any)\n",
        "X.fillna(0, inplace=True)\n",
        "y.fillna(0, inplace=True)\n"
      ],
      "metadata": {
        "id": "EY5bhTXCRhlL"
      },
      "execution_count": 495,
      "outputs": []
    },
    {
      "cell_type": "code",
      "source": [
        "print(X.info())"
      ],
      "metadata": {
        "id": "voCz8x2RKsDH",
        "colab": {
          "base_uri": "https://localhost:8080/"
        },
        "outputId": "ab5e681b-ac87-479e-d366-ef81da323ef7"
      },
      "execution_count": 496,
      "outputs": [
        {
          "output_type": "stream",
          "name": "stdout",
          "text": [
            "<class 'pandas.core.frame.DataFrame'>\n",
            "RangeIndex: 94824 entries, 0 to 94823\n",
            "Data columns (total 7 columns):\n",
            " #   Column                     Non-Null Count  Dtype\n",
            "---  ------                     --------------  -----\n",
            " 0   comments_count             94824 non-null  int64\n",
            " 1   media_type_CAROUSEL_ALBUM  94824 non-null  int64\n",
            " 2   media_type_IMAGE           94824 non-null  int64\n",
            " 3   media_type_VIDEO           94824 non-null  int64\n",
            " 4   hour                       94824 non-null  int32\n",
            " 5   day                        94824 non-null  int32\n",
            " 6   weekday                    94824 non-null  int32\n",
            "dtypes: int32(3), int64(4)\n",
            "memory usage: 4.0 MB\n",
            "None\n"
          ]
        }
      ]
    },
    {
      "cell_type": "code",
      "source": [
        "import pandas as pd\n",
        "import seaborn as sns\n",
        "import matplotlib.pyplot as plt\n",
        "\n",
        "# Combine X and y into a single DataFrame for correlation analysis\n",
        "X_with_y = X.copy()\n",
        "X_with_y['like_count'] = y  # Add target variable (y) to the feature set\n",
        "\n",
        "# Compute the correlation matrix\n",
        "correlation_with_target = X_with_y.corr()['like_count'].sort_values(ascending=False)\n",
        "\n",
        "# Display correlations with the target\n",
        "print(\"Correlations of features with the target variable:\")\n",
        "print(correlation_with_target)\n",
        "\n",
        "# Plot the correlations with the target variable\n",
        "plt.figure(figsize=(10, 6))\n",
        "sns.barplot(x=correlation_with_target.index, y=correlation_with_target.values)\n",
        "plt.xticks(rotation=90)\n",
        "plt.title(\"Correlation of Features with Target\")\n",
        "plt.ylabel(\"Correlation Coefficient\")\n",
        "plt.show()\n"
      ],
      "metadata": {
        "id": "j54koTPOXqqk",
        "colab": {
          "base_uri": "https://localhost:8080/",
          "height": 0
        },
        "outputId": "a0cc6778-1f9e-470e-ef5a-6f21407cdf00"
      },
      "execution_count": 497,
      "outputs": [
        {
          "output_type": "stream",
          "name": "stdout",
          "text": [
            "Correlations of features with the target variable:\n",
            "like_count                   1.000000\n",
            "comments_count               0.161381\n",
            "hour                         0.078602\n",
            "media_type_CAROUSEL_ALBUM    0.068339\n",
            "weekday                      0.015038\n",
            "media_type_VIDEO             0.008989\n",
            "day                         -0.002334\n",
            "media_type_IMAGE            -0.062320\n",
            "Name: like_count, dtype: float64\n"
          ]
        },
        {
          "output_type": "display_data",
          "data": {
            "text/plain": [
              "<Figure size 1000x600 with 1 Axes>"
            ],
            "image/png": "[encoded data removed]"
          },
          "metadata": {}
        }
      ]
    },
    {
      "cell_type": "code",
      "source": [
        "import numpy as np\n",
        "import matplotlib.pyplot as plt\n",
        "import seaborn as sns\n",
        "\n",
        "\n",
        "# Prepare feature matrix (X) and target (y)\n",
        "X_relations = X_with_y.copy()\n",
        "#X_relations['interaction_comments_follower'] = X_relations['log_comments_count'] * X_relations['follower_count']\n",
        "\n",
        "# Aggregate average like_count by comments_count\n",
        "comment_like_relation = X_relations.groupby('hour')['like_count'].mean()\n",
        "\n",
        "# Plot the relationship\n",
        "plt.figure(figsize=(10, 6))\n",
        "sns.lineplot(x=comment_like_relation.index, y=comment_like_relation.values, marker='o')\n",
        "plt.title('Average Like Count by Comment Count')\n",
        "plt.xlabel('Number of Comments')\n",
        "plt.ylabel('Average Like Count')\n",
        "plt.grid(True)\n",
        "plt.show()\n"
      ],
      "metadata": {
        "id": "tXP5QKVRT-tB",
        "colab": {
          "base_uri": "https://localhost:8080/",
          "height": 0
        },
        "outputId": "93b72367-c664-4d90-cc26-b05c0e4fd976"
      },
      "execution_count": 498,
      "outputs": [
        {
          "output_type": "display_data",
          "data": {
            "text/plain": [
              "<Figure size 1000x600 with 1 Axes>"
            ],
            "image/png": "[encoded data removed]"
          },
          "metadata": {}
        }
      ]
    },
    {
      "cell_type": "code",
      "source": [
        "from sklearn.feature_extraction.text import TfidfVectorizer\n",
        "\n",
        "# Vectorize captions\n",
        "caption_vectorizer = TfidfVectorizer(max_features=3000, stop_words='english', ngram_range=(1, 2))\n",
        "caption_tfidf = caption_vectorizer.fit_transform(train_merged_df['caption'].fillna(\"\"))\n",
        "\n",
        "\n",
        "# Convert to DataFrames\n",
        "caption_tfidf_df = pd.DataFrame(caption_tfidf.toarray(), columns=[f\"caption_tfidf_{i}\" for i in range(caption_tfidf.shape[1])])\n",
        "\n",
        "\n"
      ],
      "metadata": {
        "id": "HBWZZfuXQVB6"
      },
      "execution_count": 499,
      "outputs": []
    },
    {
      "cell_type": "code",
      "source": [
        "# Check for outliers using boxplot\n",
        "sns.boxplot(X_with_y['like_count'])\n",
        "plt.title('Boxplot of like_count')\n",
        "plt.show()"
      ],
      "metadata": {
        "colab": {
          "base_uri": "https://localhost:8080/",
          "height": 0
        },
        "id": "Cpgt7E03WhgZ",
        "outputId": "9c902ee8-17b4-4a2a-de0a-22f1489dfff8"
      },
      "execution_count": 500,
      "outputs": [
        {
          "output_type": "display_data",
          "data": {
            "text/plain": [
              "<Figure size 640x480 with 1 Axes>"
            ],
            "image/png": "[encoded data removed]"
          },
          "metadata": {}
        }
      ]
    },
    {
      "cell_type": "code",
      "source": [
        "Q1 = train_posts_df_cleaned['like_count'].quantile(0.15)\n",
        "Q3 = train_posts_df_cleaned['like_count'].quantile(0.85)\n",
        "IQR = Q3 - Q1\n",
        "lower_bound = Q1 - 3 * IQR\n",
        "upper_bound = Q3 + 3 * IQR\n",
        "filtered_df = train_posts_df_cleaned[\n",
        "    (train_posts_df_cleaned['like_count'] >= lower_bound) &\n",
        "    (train_posts_df_cleaned['like_count'] <= upper_bound)\n",
        "]\n",
        "\n",
        "sns.boxplot(filtered_df['like_count'])\n",
        "plt.title('Boxplot of like_count')\n",
        "plt.show()\n"
      ],
      "metadata": {
        "colab": {
          "base_uri": "https://localhost:8080/",
          "height": 0
        },
        "id": "OWoFfiCJXBEK",
        "outputId": "d1a0151c-b1f9-4ae5-f2eb-58a88a2344c6"
      },
      "execution_count": 501,
      "outputs": [
        {
          "output_type": "display_data",
          "data": {
            "text/plain": [
              "<Figure size 640x480 with 1 Axes>"
            ],
            "image/png": "[encoded data removed]"
          },
          "metadata": {}
        }
      ]
    },
    {
      "cell_type": "code",
      "source": [
        "# FIND new relations with features\n",
        "\n",
        "import numpy as np\n",
        "\n",
        "# Make a copy of the original X to avoid modifying it directly\n",
        "X_transformed = X_with_y.copy()\n",
        "\n",
        "# Apply polynomial transformations\n",
        "for col in X.columns:\n",
        "    # Check if the column is numerical (dtype of individual column)\n",
        "\n",
        "        X_transformed[f'{col}^2'] = X[col] ** 2\n",
        "        X_transformed[f'{col}^3'] = X[col] ** 3\n",
        "\n",
        "# Apply logarithmic transformations\n",
        "for col in X.columns:\n",
        "    # Check if the column is numerical (dtype of individual column)\n",
        "    if X[col].dtype in ['int64', 'float64']:\n",
        "        # Add log-transformed columns (handle zeros and negatives gracefully)\n",
        "        X_transformed[f'log_{col}'] = np.log1p(X[col])  # log(x + 1) to avoid log(0)\n",
        "\n",
        "\n",
        "X_transformed['log_like_count'] = np.log1p(X_transformed['like_count'])\n",
        "\n",
        "\n",
        "\n",
        "X_transformed['scaled_like_count'] = filtered_df['like_count']\n",
        "X_transformed['scaled_log_like_count'] = np.log1p(X_transformed['scaled_like_count'])\n",
        "\n",
        "# Interaction between followers and comments\n",
        "X_transformed['followers_comments_interaction'] = (\n",
        "    train_merged_df['follower_count'] *\n",
        "    train_merged_df['comments_count']\n",
        ")\n",
        "\n",
        "\n",
        "\n",
        "X_transformed['follower_count']=train_merged_df['follower_count']\n",
        "X_transformed['following_count'] = train_merged_df['following_count']\n",
        "\n",
        "#To not to have division by 0\n",
        "train_merged_df['following_count'] = train_merged_df['following_count'].replace(0, 1e-6)\n",
        "\n",
        "X_transformed['follower_following_ratio']=train_merged_df['follower_count'] /train_merged_df['following_count']\n",
        "X_transformed['follower_following_ratio'] = X_transformed['follower_following_ratio'].replace([np.inf, -np.inf], np.nan)\n",
        "\n",
        "# Optional: Fill NaN with a default value (e.g., 0)\n",
        "X_transformed['follower_following_ratio'] = X_transformed['follower_following_ratio'].fillna(0)\n",
        "\n",
        "\n",
        "\n"
      ],
      "metadata": {
        "colab": {
          "base_uri": "https://localhost:8080/"
        },
        "id": "VgQw73jiKYXj",
        "outputId": "420544cc-c17a-4288-ac99-b7c3d058b360"
      },
      "execution_count": 502,
      "outputs": [
        {
          "output_type": "stream",
          "name": "stderr",
          "text": [
            "<ipython-input-502-2b19d7f6fa2e>:42: FutureWarning: Downcasting behavior in `replace` is deprecated and will be removed in a future version. To retain the old behavior, explicitly call `result.infer_objects(copy=False)`. To opt-in to the future behavior, set `pd.set_option('future.no_silent_downcasting', True)`\n",
            "  train_merged_df['following_count'] = train_merged_df['following_count'].replace(0, 1e-6)\n",
            "<ipython-input-502-2b19d7f6fa2e>:45: FutureWarning: Downcasting behavior in `replace` is deprecated and will be removed in a future version. To retain the old behavior, explicitly call `result.infer_objects(copy=False)`. To opt-in to the future behavior, set `pd.set_option('future.no_silent_downcasting', True)`\n",
            "  X_transformed['follower_following_ratio'] = X_transformed['follower_following_ratio'].replace([np.inf, -np.inf], np.nan)\n"
          ]
        }
      ]
    },
    {
      "cell_type": "code",
      "source": [
        "X_with_y = X_transformed.copy()\n",
        "#X_with_y['target'] = y  # Add target variable (y) to the feature set\n",
        "\n",
        "# Compute the correlation matrix\n",
        "correlation_with_target = X_with_y.corr()['like_count'].sort_values(ascending=False)\n",
        "\n",
        "# Display correlations with the target\n",
        "print(\"Correlations of extended features with the target variable:\")\n",
        "print(correlation_with_target)\n",
        "\n",
        "# Plot the correlations with the target variable\n",
        "plt.figure(figsize=(10, 6))\n",
        "sns.barplot(x=correlation_with_target.index, y=correlation_with_target.values)\n",
        "plt.xticks(rotation=90)\n",
        "plt.title(\"Correlation of Features with Target\")\n",
        "plt.ylabel(\"Correlation Coefficient\")\n",
        "plt.show()"
      ],
      "metadata": {
        "colab": {
          "base_uri": "https://localhost:8080/",
          "height": 0
        },
        "id": "2FmRVJ5eQtCH",
        "outputId": "dbb2c609-a2fb-46f2-e3b5-fdc1381c6c60"
      },
      "execution_count": 503,
      "outputs": [
        {
          "output_type": "stream",
          "name": "stdout",
          "text": [
            "Correlations of extended features with the target variable:\n",
            "scaled_like_count                 1.000000\n",
            "like_count                        1.000000\n",
            "scaled_log_like_count             0.681933\n",
            "log_comments_count                0.404123\n",
            "log_like_count                    0.388734\n",
            "comments_count                    0.161381\n",
            "followers_comments_interaction    0.127402\n",
            "follower_count                    0.084966\n",
            "hour^2                            0.080553\n",
            "hour                              0.078602\n",
            "hour^3                            0.078518\n",
            "log_media_type_CAROUSEL_ALBUM     0.068339\n",
            "media_type_CAROUSEL_ALBUM^3       0.068339\n",
            "media_type_CAROUSEL_ALBUM^2       0.068339\n",
            "media_type_CAROUSEL_ALBUM         0.068339\n",
            "follower_following_ratio          0.032951\n",
            "following_count                   0.023914\n",
            "weekday^3                         0.022440\n",
            "comments_count^2                  0.020760\n",
            "weekday^2                         0.019955\n",
            "weekday                           0.015038\n",
            "comments_count^3                  0.012810\n",
            "log_media_type_VIDEO              0.008989\n",
            "media_type_VIDEO^3                0.008989\n",
            "media_type_VIDEO^2                0.008989\n",
            "media_type_VIDEO                  0.008989\n",
            "day^3                            -0.000809\n",
            "day^2                            -0.001084\n",
            "day                              -0.002334\n",
            "log_media_type_IMAGE             -0.062320\n",
            "media_type_IMAGE                 -0.062320\n",
            "media_type_IMAGE^3               -0.062320\n",
            "media_type_IMAGE^2               -0.062320\n",
            "Name: like_count, dtype: float64\n"
          ]
        },
        {
          "output_type": "display_data",
          "data": {
            "text/plain": [
              "<Figure size 1000x600 with 1 Axes>"
            ],
            "image/png": "[encoded data removed]"
          },
          "metadata": {}
        }
      ]
    },
    {
      "cell_type": "code",
      "source": [
        "sns.regplot(x=X_transformed['log_comments_count'], y=X_transformed['log_like_count'], scatter_kws={'s': 10}, line_kws={'color': 'red'})\n"
      ],
      "metadata": {
        "id": "0a-okdjHaciN",
        "colab": {
          "base_uri": "https://localhost:8080/",
          "height": 0
        },
        "outputId": "ad95eba3-8dd4-46a6-f15b-5684c7a4eb2c"
      },
      "execution_count": 504,
      "outputs": [
        {
          "output_type": "execute_result",
          "data": {
            "text/plain": [
              "<Axes: xlabel='log_comments_count', ylabel='log_like_count'>"
            ]
          },
          "metadata": {},
          "execution_count": 504
        },
        {
          "output_type": "display_data",
          "data": {
            "text/plain": [
              "<Figure size 640x480 with 1 Axes>"
            ],
            "image/png": "[encoded data removed]"
          },
          "metadata": {}
        }
      ]
    },
    {
      "cell_type": "code",
      "source": [
        "filtered_df.shape"
      ],
      "metadata": {
        "colab": {
          "base_uri": "https://localhost:8080/"
        },
        "id": "aELl10PtdQa-",
        "outputId": "48f61b08-e7ed-45db-c6db-03837ffa7e9f"
      },
      "execution_count": 505,
      "outputs": [
        {
          "output_type": "execute_result",
          "data": {
            "text/plain": [
              "(86424, 11)"
            ]
          },
          "metadata": {},
          "execution_count": 505
        }
      ]
    },
    {
      "cell_type": "code",
      "source": [
        "# Aggregate like counts by hour and day\n",
        "heatmap_data = X_relations.pivot_table(\n",
        "    values='like_count',\n",
        "    index='day',\n",
        "    columns='hour',\n",
        "    aggfunc='mean'\n",
        ")\n",
        "\n",
        "# Plot heatmap\n",
        "plt.figure(figsize=(12, 8))\n",
        "sns.heatmap(heatmap_data, cmap='YlGnBu', annot=False, cbar=True)\n",
        "plt.title('Heatmap of Like Counts by Hour and Day')\n",
        "plt.xlabel('Hour of the Day')\n",
        "plt.ylabel('Day of the Month')\n",
        "plt.show()\n"
      ],
      "metadata": {
        "id": "3xxp_Ef3UdxH",
        "colab": {
          "base_uri": "https://localhost:8080/",
          "height": 0
        },
        "outputId": "1837186f-c94f-40ec-8902-f95113b84799"
      },
      "execution_count": 506,
      "outputs": [
        {
          "output_type": "display_data",
          "data": {
            "text/plain": [
              "<Figure size 1200x800 with 2 Axes>"
            ],
            "image/png": "[encoded data removed]"
          },
          "metadata": {}
        }
      ]
    },
    {
      "cell_type": "markdown",
      "source": [
        "#### Evaluation Metrics"
      ],
      "metadata": {
        "id": "ZcMht80bEpTr"
      }
    },
    {
      "cell_type": "code",
      "source": [
        "def log_mse_like_counts(y_true, y_pred):\n",
        "  \"\"\"\n",
        "  Calculate the Log Mean Squared Error (Log MSE) for like counts (log(like_count + 1)).\n",
        "\n",
        "  Parameters:\n",
        "  - y_true: array-like, actual like counts\n",
        "  - y_pred: array-like, predicted like counts\n",
        "\n",
        "  Returns:\n",
        "  - log_mse: float, Log Mean Squared Error\n",
        "  \"\"\"\n",
        "  # Ensure inputs are numpy arrays\n",
        "  y_true = np.array(y_true)\n",
        "  y_pred = np.array(y_pred)\n",
        "\n",
        "  # Log transformation: log(like_count + 1)\n",
        "  log_y_true = np.log1p(y_true)\n",
        "  log_y_pred = np.log1p(y_pred)\n",
        "\n",
        "  # Compute squared errors\n",
        "  squared_errors = (log_y_true - log_y_pred) ** 2\n",
        "\n",
        "  # Return the mean of squared errors\n",
        "  return np.mean(squared_errors)"
      ],
      "metadata": {
        "id": "Q43uOifXEcbx"
      },
      "execution_count": 507,
      "outputs": []
    },
    {
      "cell_type": "code",
      "source": [
        "import numpy as np\n",
        "\n",
        "def calculate_r2(y_true, y_pred):\n",
        "    \"\"\"\n",
        "    Calculate the R^2 (coefficient of determination) error.\n",
        "\n",
        "    Parameters:\n",
        "    y_true (array-like): True values.\n",
        "    y_pred (array-like): Predicted values.\n",
        "\n",
        "    Returns:\n",
        "    float: R^2 score.\n",
        "    \"\"\"\n",
        "    # Convert to numpy arrays for easy calculations\n",
        "    y_true = np.array(y_true)\n",
        "    y_pred = np.array(y_pred)\n",
        "\n",
        "    # Calculate the mean of true values\n",
        "    y_mean = np.mean(y_true)\n",
        "\n",
        "    # Residual sum of squares\n",
        "    ss_res = np.sum((y_true - y_pred) ** 2)\n",
        "\n",
        "    # Total sum of squares\n",
        "    ss_tot = np.sum((y_true - y_mean) ** 2)\n",
        "\n",
        "    # R^2 calculation\n",
        "    r2 = 1 - (ss_res / ss_tot)\n",
        "    return r2\n"
      ],
      "metadata": {
        "id": "mpcDIbwRElyo"
      },
      "execution_count": 508,
      "outputs": []
    },
    {
      "cell_type": "markdown",
      "source": [
        "#### Prediction"
      ],
      "metadata": {
        "id": "tHK7Sa4UEuOw"
      }
    },
    {
      "cell_type": "code",
      "source": [
        "def predict_like_count(username, current_post=None):\n",
        "    def get_avg_metrics(posts):\n",
        "        total_likes = 0\n",
        "        total_comments = 0\n",
        "        for post in posts:\n",
        "            if current_post is not None and post.get(\"id\") == current_post.get(\"id\"):\n",
        "                continue\n",
        "\n",
        "            like_count = post.get(\"like_count\", 0)\n",
        "            comment_count = post.get(\"comments_count\", 0)\n",
        "\n",
        "            total_likes += like_count if like_count is not None else 0\n",
        "            total_comments += comment_count if comment_count is not None else 0\n",
        "\n",
        "        if not posts:\n",
        "            return 0, 0\n",
        "\n",
        "        return total_likes / len(posts), total_comments / len(posts)\n",
        "\n",
        "    # Hourly coefficients\n",
        "    hour_coefficients = {\n",
        "        0: 1.1, 1: 0.3, 2: 0.35, 3: 0.3, 4: 0.7, 5: 0.2,\n",
        "        6: 0.15, 7: 0.2, 8: 0.22, 9: 0.4, 10: 0.37, 11: 0.37,\n",
        "        12: 0.4, 13: 0.5, 14: 0.6, 15: 0.85, 16: 1.3, 17: 1.4,\n",
        "        18: 1.5, 19: 1.1, 20: 1.2, 21: 1.2, 22: 1.7, 23: 1.0\n",
        "    }\n",
        "\n",
        "    # Retrieve average metrics\n",
        "    if username in username2posts_train:\n",
        "        avg_like_count, avg_comment_count = get_avg_metrics(username2posts_train[username])\n",
        "    elif username in username2posts_test:\n",
        "        avg_like_count, avg_comment_count = get_avg_metrics(username2posts_test[username])\n",
        "    else:\n",
        "        print(f\"No data available for {username}\")\n",
        "        return -1\n",
        "\n",
        "    # Retrieve full post data if `current_post` is incomplete\n",
        "    if current_post and \"hour\" not in current_post:\n",
        "        post_id = current_post.get(\"id\")\n",
        "        matched_row = train_cleaned_profile_df.loc[train_profile_df_cleaned[\"id\"] == post_id]\n",
        "        if not matched_row.empty:\n",
        "            current_post[\"hour\"] = matched_row[\"hour\"].values[0]\n",
        "            current_post[\"comments_count\"] = matched_row[\"comments_count\"].values[0]\n",
        "\n",
        "    # Calculate log_comments_count\n",
        "    current_comments = current_post.get(\"comments_count\", avg_comment_count) if current_post else avg_comment_count\n",
        "    log_comments_count = np.log1p(current_comments)\n",
        "\n",
        "    # Regression adjustment\n",
        "    adjusted_like_count = avg_like_count - (0.1 * log_comments_count) +2\n",
        "\n",
        "    # Hour adjustment\n",
        "    post_hour = current_post.get(\"hour\", -1) if current_post else -1\n",
        "    if post_hour in hour_coefficients:\n",
        "        hour_coefficients[post_hour] = hour_coefficients[post_hour]\n",
        "        if hour_coefficients[post_hour] >= 1:\n",
        "            adjusted_like_count +=  (adjusted_like_count * hour_coefficients[post_hour]) * 0.1\n",
        "        else:\n",
        "            adjusted_like_count -=  (adjusted_like_count * hour_coefficients[post_hour]) * 0.05\n",
        "\n",
        "\n",
        "    # Penalize below-average comments\n",
        "    if current_post and current_comments < avg_comment_count:\n",
        "        penalty = avg_like_count * 0.5\n",
        "        adjusted_like_count -= penalty\n",
        "\n",
        "    return max(adjusted_like_count, 0)  # Ensure non-negative predictions\n"
      ],
      "metadata": {
        "id": "bUnbPCx1Ewt4"
      },
      "execution_count": 509,
      "outputs": []
    },
    {
      "cell_type": "code",
      "source": [
        "#@title Train Dataset evaluation\n",
        "\n",
        "y_like_count_train_true = []\n",
        "y_like_count_train_pred = []\n",
        "for uname, posts in username2posts_train.items():\n",
        "  for post in posts:\n",
        "    pred_val = predict_like_count(uname, post)\n",
        "    true_val = post.get(\"like_count\", 0)\n",
        "    if true_val is None:\n",
        "      true_val = 0\n",
        "\n",
        "    y_like_count_train_true.append(true_val)\n",
        "    y_like_count_train_pred.append(pred_val)\n",
        "\n",
        "print(f\"Log MSE Train= {log_mse_like_counts(y_like_count_train_true, y_like_count_train_pred)}\")"
      ],
      "metadata": {
        "colab": {
          "base_uri": "https://localhost:8080/"
        },
        "id": "ppvIgNsGfcl2",
        "outputId": "fd88c2c4-9767-49a0-974d-c8a7e844e5b3"
      },
      "execution_count": 510,
      "outputs": [
        {
          "output_type": "stream",
          "name": "stdout",
          "text": [
            "Log MSE Train= 1.0539985742775873\n"
          ]
        }
      ]
    },
    {
      "cell_type": "code",
      "source": [
        "print(f\"R^2 Train= {calculate_r2(y_like_count_train_true, y_like_count_train_pred)}\")"
      ],
      "metadata": {
        "colab": {
          "base_uri": "https://localhost:8080/"
        },
        "id": "ta1vkOQQyp0e",
        "outputId": "d705b827-444e-4c77-88b3-a923aab3ae35"
      },
      "execution_count": 511,
      "outputs": [
        {
          "output_type": "stream",
          "name": "stdout",
          "text": [
            "R^2 Train= 0.5943863238618015\n"
          ]
        }
      ]
    },
    {
      "cell_type": "code",
      "source": [],
      "metadata": {
        "id": "XP7pPdAo5iP3"
      },
      "execution_count": 511,
      "outputs": []
    },
    {
      "cell_type": "code",
      "source": [
        "import json\n",
        "\n",
        "# Step 1: Read the test usernames from the file\n",
        "test_data_path = \"/content/drive/MyDrive/CS412Data/test-classification-round3.dat\"\n",
        "test_unames = []\n",
        "with open(test_data_path, \"rt\") as fh:\n",
        "    for line in fh:\n",
        "        test_unames.append(line.strip())\n",
        "\n",
        "print(f\"Loaded {len(test_unames)} test usernames.\")"
      ],
      "metadata": {
        "colab": {
          "base_uri": "https://localhost:8080/"
        },
        "id": "GapUWXlj6wwZ",
        "outputId": "31c26e67-4cbd-4af7-b3b8-7d4e7a62be1f"
      },
      "execution_count": 512,
      "outputs": [
        {
          "output_type": "stream",
          "name": "stdout",
          "text": [
            "Loaded 1000 test usernames.\n"
          ]
        }
      ]
    },
    {
      "cell_type": "code",
      "source": [
        "import json\n",
        "\n",
        "# Step 1: Read the test usernames from the file\n",
        "test_data_path = \"/content/drive/MyDrive/CS412Data/test-classification-round3.dat\"\n",
        "test_unames = []\n",
        "with open(test_data_path, \"rt\") as fh:\n",
        "    for line in fh:\n",
        "        test_unames.append(line.strip())\n",
        "\n",
        "print(f\"Loaded {len(test_unames)} test usernames.\")\n",
        "\n",
        "# Step 2: Filter the test dataset for these usernames\n",
        "filtered_test_posts = test_posts_df_cleaned[test_posts_df_cleaned['username'].isin(test_unames)]\n",
        "\n",
        "print(f\"Filtered test posts for {filtered_test_posts.shape[0]} posts.\")\n",
        "\n",
        "# Step 3: Predict like counts for the filtered test posts\n",
        "like_count_predictions = {}\n",
        "for _, post in filtered_test_posts.iterrows():\n",
        "    username = post['username']\n",
        "    post_id = post['id']  # Use 'id' column as unique identifier\n",
        "\n",
        "    # Construct the current post dictionary\n",
        "    current_post = {\n",
        "        \"id\": post_id,\n",
        "        \"hour\": post['hour'],\n",
        "        \"comments_count\": post['comments_count']\n",
        "    }\n",
        "\n",
        "    # Predict like count\n",
        "    predicted_like_count = predict_like_count(username, current_post)\n",
        "    like_count_predictions[post_id] = int(round(predicted_like_count))\n",
        "\n",
        "# Step 4: Save predictions to a JSON file\n",
        "output_file_path = \"/content/drive/MyDrive/CS412Data/filtered_test_like_predictions.json\"\n",
        "with open(output_file_path, \"w\", encoding=\"utf-8\") as outfile:\n",
        "    json.dump(like_count_predictions, outfile, indent=4)\n",
        "\n",
        "print(f\"Predicted like counts for test usernames saved to: {output_file_path}\")\n"
      ],
      "metadata": {
        "colab": {
          "base_uri": "https://localhost:8080/"
        },
        "id": "Qyd0eYQ26tGM",
        "outputId": "f02e1625-4ac0-4b8b-ac99-193ccc925f2c"
      },
      "execution_count": 516,
      "outputs": [
        {
          "output_type": "stream",
          "name": "stdout",
          "text": [
            "Loaded 1000 test usernames.\n",
            "Filtered test posts for 25470 posts.\n",
            "Predicted like counts for test usernames saved to: /content/drive/MyDrive/CS412Data/filtered_test_like_predictions.json\n"
          ]
        }
      ]
    },
    {
      "cell_type": "code",
      "source": [
        "#@title Test Dataset\n",
        "\n",
        "path = \"/content/drive/MyDrive/CS412Data/test-regression-round3.jsonl\"\n",
        "output_path = \"/content/drive/MyDrive/CS412Data/filtered_test_like_predictions.json\"\n",
        "\n",
        "output_list = []\n",
        "\n",
        "with open(path, \"rt\") as fh:\n",
        "    for line in fh:\n",
        "        sample = json.loads(line.strip())  # Parse each JSON line\n",
        "        username = sample[\"username\"]  # Extract username from the sample\n",
        "\n",
        "        # Predict like count\n",
        "        pred_val = predict_like_count(username)\n",
        "\n",
        "        # Update sample with the predicted like count\n",
        "        sample[\"like_count\"] = int(pred_val)\n",
        "\n",
        "        # Append the updated sample to the output list\n",
        "        output_list.append({\n",
        "            \"id\": sample[\"id\"],  # Assuming \"id\" exists in the sample\n",
        "            \"like_count\": sample[\"like_count\"]\n",
        "        })\n",
        "\n",
        "# Write the predictions to the output JSON file\n",
        "with open(output_path, \"wt\") as of:\n",
        "    json.dump(output_list, of, indent=4)\n",
        "\n",
        "print(f\"Predictions saved to: {output_path}\")"
      ],
      "metadata": {
        "colab": {
          "base_uri": "https://localhost:8080/"
        },
        "id": "RETrTCNZ9q6_",
        "outputId": "1b304908-c23e-4b0d-e7fd-f8fb5242abd2"
      },
      "execution_count": 522,
      "outputs": [
        {
          "output_type": "stream",
          "name": "stdout",
          "text": [
            "Predictions saved to: /content/drive/MyDrive/CS412Data/filtered_test_like_predictions.json\n"
          ]
        }
      ]
    }
  ]
}